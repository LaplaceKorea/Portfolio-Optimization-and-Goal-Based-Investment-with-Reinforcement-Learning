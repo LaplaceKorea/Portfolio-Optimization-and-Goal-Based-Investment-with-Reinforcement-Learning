{
 "metadata": {
  "language_info": {
   "codemirror_mode": {
    "name": "ipython",
    "version": 3
   },
   "file_extension": ".py",
   "mimetype": "text/x-python",
   "name": "python",
   "nbconvert_exporter": "python",
   "pygments_lexer": "ipython3",
   "version": "3.8.5"
  },
  "orig_nbformat": 2,
  "kernelspec": {
   "name": "python385jvsc74a57bd08ad9648e3b2075ea790d2fdad19404f3581ecb3ccd8b084cd429cce644540944",
   "display_name": "Python 3.8.5 64-bit ('env')"
  }
 },
 "nbformat": 4,
 "nbformat_minor": 2,
 "cells": [
  {
   "cell_type": "code",
   "execution_count": 1,
   "metadata": {},
   "outputs": [],
   "source": [
    "import numpy as np\n",
    "import itertools"
   ]
  },
  {
   "cell_type": "code",
   "execution_count": 2,
   "metadata": {},
   "outputs": [],
   "source": [
    "action_space = np.arange(3**3)\n",
    "action_list = list(map(list, itertools.product([0, 1, 2], repeat=3)))"
   ]
  },
  {
   "cell_type": "code",
   "execution_count": 16,
   "metadata": {},
   "outputs": [
    {
     "output_type": "execute_result",
     "data": {
      "text/plain": [
       "[(0, 0, 0),\n",
       " (0, 0, 1),\n",
       " (0, 0, 2),\n",
       " (0, 1, 0),\n",
       " (0, 1, 1),\n",
       " (0, 1, 2),\n",
       " (0, 2, 0),\n",
       " (0, 2, 1),\n",
       " (0, 2, 2),\n",
       " (1, 0, 0),\n",
       " (1, 0, 1),\n",
       " (1, 0, 2),\n",
       " (1, 1, 0),\n",
       " (1, 1, 1),\n",
       " (1, 1, 2),\n",
       " (1, 2, 0),\n",
       " (1, 2, 1),\n",
       " (1, 2, 2),\n",
       " (2, 0, 0),\n",
       " (2, 0, 1),\n",
       " (2, 0, 2),\n",
       " (2, 1, 0),\n",
       " (2, 1, 1),\n",
       " (2, 1, 2),\n",
       " (2, 2, 0),\n",
       " (2, 2, 1),\n",
       " (2, 2, 2)]"
      ]
     },
     "metadata": {},
     "execution_count": 16
    }
   ],
   "source": [
    "list(itertools.product([0, 1, 2], repeat=3))"
   ]
  },
  {
   "cell_type": "code",
   "execution_count": 4,
   "metadata": {},
   "outputs": [
    {
     "output_type": "execute_result",
     "data": {
      "text/plain": [
       "[[0, 0, 0],\n",
       " [0, 0, 1],\n",
       " [0, 0, 2],\n",
       " [0, 1, 0],\n",
       " [0, 1, 1],\n",
       " [0, 1, 2],\n",
       " [0, 2, 0],\n",
       " [0, 2, 1],\n",
       " [0, 2, 2],\n",
       " [1, 0, 0],\n",
       " [1, 0, 1],\n",
       " [1, 0, 2],\n",
       " [1, 1, 0],\n",
       " [1, 1, 1],\n",
       " [1, 1, 2],\n",
       " [1, 2, 0],\n",
       " [1, 2, 1],\n",
       " [1, 2, 2],\n",
       " [2, 0, 0],\n",
       " [2, 0, 1],\n",
       " [2, 0, 2],\n",
       " [2, 1, 0],\n",
       " [2, 1, 1],\n",
       " [2, 1, 2],\n",
       " [2, 2, 0],\n",
       " [2, 2, 1],\n",
       " [2, 2, 2]]"
      ]
     },
     "metadata": {},
     "execution_count": 4
    }
   ],
   "source": [
    "action_list"
   ]
  },
  {
   "cell_type": "code",
   "execution_count": 18,
   "metadata": {},
   "outputs": [
    {
     "output_type": "stream",
     "text": [
      "\u001b[0;31mSignature:\u001b[0m\n",
      "\u001b[0mnp\u001b[0m\u001b[0;34m.\u001b[0m\u001b[0mmax\u001b[0m\u001b[0;34m(\u001b[0m\u001b[0;34m\u001b[0m\n",
      "\u001b[0;34m\u001b[0m    \u001b[0ma\u001b[0m\u001b[0;34m,\u001b[0m\u001b[0;34m\u001b[0m\n",
      "\u001b[0;34m\u001b[0m    \u001b[0maxis\u001b[0m\u001b[0;34m=\u001b[0m\u001b[0;32mNone\u001b[0m\u001b[0;34m,\u001b[0m\u001b[0;34m\u001b[0m\n",
      "\u001b[0;34m\u001b[0m    \u001b[0mout\u001b[0m\u001b[0;34m=\u001b[0m\u001b[0;32mNone\u001b[0m\u001b[0;34m,\u001b[0m\u001b[0;34m\u001b[0m\n",
      "\u001b[0;34m\u001b[0m    \u001b[0mkeepdims\u001b[0m\u001b[0;34m=\u001b[0m\u001b[0;34m<\u001b[0m\u001b[0mno\u001b[0m \u001b[0mvalue\u001b[0m\u001b[0;34m>\u001b[0m\u001b[0;34m,\u001b[0m\u001b[0;34m\u001b[0m\n",
      "\u001b[0;34m\u001b[0m    \u001b[0minitial\u001b[0m\u001b[0;34m=\u001b[0m\u001b[0;34m<\u001b[0m\u001b[0mno\u001b[0m \u001b[0mvalue\u001b[0m\u001b[0;34m>\u001b[0m\u001b[0;34m,\u001b[0m\u001b[0;34m\u001b[0m\n",
      "\u001b[0;34m\u001b[0m    \u001b[0mwhere\u001b[0m\u001b[0;34m=\u001b[0m\u001b[0;34m<\u001b[0m\u001b[0mno\u001b[0m \u001b[0mvalue\u001b[0m\u001b[0;34m>\u001b[0m\u001b[0;34m,\u001b[0m\u001b[0;34m\u001b[0m\n",
      "\u001b[0;34m\u001b[0m\u001b[0;34m)\u001b[0m\u001b[0;34m\u001b[0m\u001b[0;34m\u001b[0m\u001b[0m\n",
      "\u001b[0;31mDocstring:\u001b[0m\n",
      "Return the maximum of an array or maximum along an axis.\n",
      "\n",
      "Parameters\n",
      "----------\n",
      "a : array_like\n",
      "    Input data.\n",
      "axis : None or int or tuple of ints, optional\n",
      "    Axis or axes along which to operate.  By default, flattened input is\n",
      "    used.\n",
      "\n",
      "    .. versionadded:: 1.7.0\n",
      "\n",
      "    If this is a tuple of ints, the maximum is selected over multiple axes,\n",
      "    instead of a single axis or all the axes as before.\n",
      "out : ndarray, optional\n",
      "    Alternative output array in which to place the result.  Must\n",
      "    be of the same shape and buffer length as the expected output.\n",
      "    See `ufuncs-output-type` for more details.\n",
      "\n",
      "keepdims : bool, optional\n",
      "    If this is set to True, the axes which are reduced are left\n",
      "    in the result as dimensions with size one. With this option,\n",
      "    the result will broadcast correctly against the input array.\n",
      "\n",
      "    If the default value is passed, then `keepdims` will not be\n",
      "    passed through to the `amax` method of sub-classes of\n",
      "    `ndarray`, however any non-default value will be.  If the\n",
      "    sub-class' method does not implement `keepdims` any\n",
      "    exceptions will be raised.\n",
      "\n",
      "initial : scalar, optional\n",
      "    The minimum value of an output element. Must be present to allow\n",
      "    computation on empty slice. See `~numpy.ufunc.reduce` for details.\n",
      "\n",
      "    .. versionadded:: 1.15.0\n",
      "\n",
      "where : array_like of bool, optional\n",
      "    Elements to compare for the maximum. See `~numpy.ufunc.reduce`\n",
      "    for details.\n",
      "\n",
      "    .. versionadded:: 1.17.0\n",
      "\n",
      "Returns\n",
      "-------\n",
      "amax : ndarray or scalar\n",
      "    Maximum of `a`. If `axis` is None, the result is a scalar value.\n",
      "    If `axis` is given, the result is an array of dimension\n",
      "    ``a.ndim - 1``.\n",
      "\n",
      "See Also\n",
      "--------\n",
      "amin :\n",
      "    The minimum value of an array along a given axis, propagating any NaNs.\n",
      "nanmax :\n",
      "    The maximum value of an array along a given axis, ignoring any NaNs.\n",
      "maximum :\n",
      "    Element-wise maximum of two arrays, propagating any NaNs.\n",
      "fmax :\n",
      "    Element-wise maximum of two arrays, ignoring any NaNs.\n",
      "argmax :\n",
      "    Return the indices of the maximum values.\n",
      "\n",
      "nanmin, minimum, fmin\n",
      "\n",
      "Notes\n",
      "-----\n",
      "NaN values are propagated, that is if at least one item is NaN, the\n",
      "corresponding max value will be NaN as well. To ignore NaN values\n",
      "(MATLAB behavior), please use nanmax.\n",
      "\n",
      "Don't use `amax` for element-wise comparison of 2 arrays; when\n",
      "``a.shape[0]`` is 2, ``maximum(a[0], a[1])`` is faster than\n",
      "``amax(a, axis=0)``.\n",
      "\n",
      "Examples\n",
      "--------\n",
      ">>> a = np.arange(4).reshape((2,2))\n",
      ">>> a\n",
      "array([[0, 1],\n",
      "       [2, 3]])\n",
      ">>> np.amax(a)           # Maximum of the flattened array\n",
      "3\n",
      ">>> np.amax(a, axis=0)   # Maxima along the first axis\n",
      "array([2, 3])\n",
      ">>> np.amax(a, axis=1)   # Maxima along the second axis\n",
      "array([1, 3])\n",
      ">>> np.amax(a, where=[False, True], initial=-1, axis=0)\n",
      "array([-1,  3])\n",
      ">>> b = np.arange(5, dtype=float)\n",
      ">>> b[2] = np.NaN\n",
      ">>> np.amax(b)\n",
      "nan\n",
      ">>> np.amax(b, where=~np.isnan(b), initial=-1)\n",
      "4.0\n",
      ">>> np.nanmax(b)\n",
      "4.0\n",
      "\n",
      "You can use an initial value to compute the maximum of an empty slice, or\n",
      "to initialize it to a different value:\n",
      "\n",
      ">>> np.max([[-50], [10]], axis=-1, initial=0)\n",
      "array([ 0, 10])\n",
      "\n",
      "Notice that the initial value is used as one of the elements for which the\n",
      "maximum is determined, unlike for the default argument Python's max\n",
      "function, which is only used for empty iterables.\n",
      "\n",
      ">>> np.max([5], initial=6)\n",
      "6\n",
      ">>> max([5], default=6)\n",
      "5\n",
      "\u001b[0;31mFile:\u001b[0m      ~/ml/env/lib/python3.8/site-packages/numpy/core/fromnumeric.py\n",
      "\u001b[0;31mType:\u001b[0m      function\n"
     ],
     "name": "stdout"
    }
   ],
   "source": [
    "np.max?"
   ]
  },
  {
   "cell_type": "code",
   "execution_count": 19,
   "metadata": {},
   "outputs": [
    {
     "output_type": "execute_result",
     "data": {
      "text/plain": [
       "array([ 0,  1,  2,  3,  4,  5,  6,  7,  8,  9, 10, 11, 12, 13, 14, 15, 16,\n",
       "       17, 18, 19, 20, 21, 22, 23, 24, 25, 26, 27, 28, 29, 30, 31])"
      ]
     },
     "metadata": {},
     "execution_count": 19
    }
   ],
   "source": [
    "np.arange(32)"
   ]
  },
  {
   "cell_type": "code",
   "execution_count": null,
   "metadata": {},
   "outputs": [],
   "source": []
  }
 ]
}