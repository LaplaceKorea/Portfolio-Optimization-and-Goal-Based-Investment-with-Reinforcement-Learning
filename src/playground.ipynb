{
 "cells": [
  {
   "cell_type": "code",
   "execution_count": 9,
   "metadata": {},
   "outputs": [],
   "source": [
    "%load_ext autoreload\n",
    "%autoreload 2\n",
    "import numpy as np\n",
    "import os\n",
    "import pandas as pd\n",
    "import sys\n",
    "path_to_package = '/'.join(os.getcwd().split('/')[:-1])\n",
    "sys.path.append(path_to_package)\n",
    "from src.environment import Environment"
   ]
  },
  {
   "cell_type": "code",
   "execution_count": 18,
   "metadata": {},
   "outputs": [
    {
     "output_type": "stream",
     "name": "stdout",
     "text": [
      "50\n"
     ]
    }
   ],
   "source": [
    "df = pd.read_csv('../data/close.csv', index_col=0)\n",
    "df = df.iloc[-50:, :3]\n",
    "\n",
    "print(df.shape[0])"
   ]
  },
  {
   "cell_type": "code",
   "execution_count": null,
   "metadata": {},
   "outputs": [],
   "source": [
    "env = Environment(stock_market_history=df,                \n",
    "                  initial_cash_in_bank=10000,\n",
    "                  buy_rate=0.01,\n",
    "                  sell_rate=0.01,\n",
    "                  limit_n_stocks=100,\n",
    "                  buy_rule='most_first')"
   ]
  },
  {
   "cell_type": "code",
   "execution_count": 11,
   "metadata": {},
   "outputs": [
    {
     "output_type": "stream",
     "name": "stdout",
     "text": [
      "[10000.           170.94999695   108.36000061    84.25\n     0.             0.             0.        ]\n                   MMM         ABT       ABBV\n2020-10-20  170.949997  108.360001  84.250000\n2020-10-21  169.169998  105.930000  82.889999\n2020-10-22  170.710007  109.480003  84.309998\n2020-10-23  169.800003  107.790001  84.339996\n2020-10-26  166.160004  109.000000  83.919998\n10000.0\n"
     ]
    }
   ],
   "source": [
    "print(env._get_observation())\n",
    "print(env.stock_market_history.head())\n",
    "print(env._get_portfolio_value())"
   ]
  },
  {
   "cell_type": "code",
   "execution_count": 12,
   "metadata": {},
   "outputs": [
    {
     "output_type": "execute_result",
     "data": {
      "text/plain": [
       "(array([6328.04402466,  169.16999817,  105.93000031,   82.88999939,\n",
       "          10.        ,   10.        ,   10.        ]),\n",
       " -92.05599670410083,\n",
       " False,\n",
       " {'value_portfolio': 9907.9440032959})"
      ]
     },
     "metadata": {},
     "execution_count": 12
    }
   ],
   "source": [
    "env.step(actions=np.array([.1, .1, .1]))"
   ]
  },
  {
   "cell_type": "code",
   "execution_count": 13,
   "metadata": {},
   "outputs": [
    {
     "output_type": "execute_result",
     "data": {
      "text/plain": [
       "9907.9440032959"
      ]
     },
     "metadata": {},
     "execution_count": 13
    }
   ],
   "source": [
    "env._get_portfolio_value()"
   ]
  },
  {
   "cell_type": "code",
   "execution_count": 14,
   "metadata": {},
   "outputs": [
    {
     "output_type": "execute_result",
     "data": {
      "text/plain": [
       "(array([6488.74504013,  170.71000671,  109.48000336,   84.30999756,\n",
       "          20.        ,    0.        ,    0.        ]),\n",
       " -4.998828887939453,\n",
       " False,\n",
       " {'value_portfolio': 9902.94517440796})"
      ]
     },
     "metadata": {},
     "execution_count": 14
    }
   ],
   "source": [
    "env.step(actions=np.array([.1, -.1, -.2]))"
   ]
  },
  {
   "cell_type": "code",
   "execution_count": 16,
   "metadata": {},
   "outputs": [
    {
     "output_type": "execute_result",
     "data": {
      "text/plain": [
       "array([6488.74504013,  170.71000671,  109.48000336,   84.30999756,\n",
       "         20.        ,    0.        ,    0.        ])"
      ]
     },
     "metadata": {},
     "execution_count": 16
    }
   ],
   "source": [
    "env._get_observation()"
   ]
  },
  {
   "cell_type": "code",
   "execution_count": null,
   "metadata": {},
   "outputs": [],
   "source": []
  }
 ],
 "metadata": {
  "kernelspec": {
   "name": "python395jvsc74a57bd09d959dad163c89cc5fb75df1327c2a9d6633240c42655880c50c54489954a6d0",
   "display_name": "Python 3.9.5 64-bit ('.env': venv)"
  },
  "language_info": {
   "codemirror_mode": {
    "name": "ipython",
    "version": 3
   },
   "file_extension": ".py",
   "mimetype": "text/x-python",
   "name": "python",
   "nbconvert_exporter": "python",
   "pygments_lexer": "ipython3",
   "version": "3.9.5"
  },
  "metadata": {
   "interpreter": {
    "hash": "9f38684a8957c3d65727244c4991ef85190ae848a179fe34d407d72de85d26a5"
   }
  },
  "orig_nbformat": 2
 },
 "nbformat": 4,
 "nbformat_minor": 2
}