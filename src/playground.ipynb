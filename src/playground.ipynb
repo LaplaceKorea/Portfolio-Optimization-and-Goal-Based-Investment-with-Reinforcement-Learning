{
 "cells": [
  {
   "cell_type": "code",
   "execution_count": 128,
   "metadata": {},
   "outputs": [],
   "source": [
    "%reload_ext autoreload\n",
    "%autoreload 2\n",
    "import numpy as np\n",
    "import itertools\n",
    "import os\n",
    "import pandas as pd\n",
    "import sys\n",
    "path_to_package = '/'.join(os.getcwd().split('/')[:-1])\n",
    "sys.path.append(path_to_package)"
   ]
  },
  {
   "cell_type": "code",
   "execution_count": 132,
   "metadata": {},
   "outputs": [
    {
     "output_type": "execute_result",
     "data": {
      "text/plain": [
       "             MMM/MMM   MMM/ABT  MMM/ABBV   ABT/MMM   ABT/ABT  ABT/ABBV  \\\n",
       "2020-12-23  1.113287  0.587608  0.604265  0.587608  0.391294  0.272667   \n",
       "2020-12-24  0.486291  0.143307  0.126876  0.143307  0.168092 -0.033241   \n",
       "2020-12-28  0.127666  0.107266 -0.033032  0.107266  0.181092 -0.062607   \n",
       "2020-12-29  0.170292  0.003433 -0.174224  0.003433  0.192134  0.152435   \n",
       "2020-12-30  0.151692 -0.079643 -0.314301 -0.079643  0.087358  0.163868   \n",
       "\n",
       "            ABBV/MMM  ABBV/ABT  ABBV/ABBV  \n",
       "2020-12-23  0.604265  0.272667   0.490197  \n",
       "2020-12-24  0.126876 -0.033241   0.138157  \n",
       "2020-12-28 -0.033032 -0.062607   0.077490  \n",
       "2020-12-29 -0.174224  0.152435   0.476490  \n",
       "2020-12-30 -0.314301  0.163868   0.945797  "
      ],
      "text/html": "<div>\n<style scoped>\n    .dataframe tbody tr th:only-of-type {\n        vertical-align: middle;\n    }\n\n    .dataframe tbody tr th {\n        vertical-align: top;\n    }\n\n    .dataframe thead th {\n        text-align: right;\n    }\n</style>\n<table border=\"1\" class=\"dataframe\">\n  <thead>\n    <tr style=\"text-align: right;\">\n      <th></th>\n      <th>MMM/MMM</th>\n      <th>MMM/ABT</th>\n      <th>MMM/ABBV</th>\n      <th>ABT/MMM</th>\n      <th>ABT/ABT</th>\n      <th>ABT/ABBV</th>\n      <th>ABBV/MMM</th>\n      <th>ABBV/ABT</th>\n      <th>ABBV/ABBV</th>\n    </tr>\n  </thead>\n  <tbody>\n    <tr>\n      <th>2020-12-23</th>\n      <td>1.113287</td>\n      <td>0.587608</td>\n      <td>0.604265</td>\n      <td>0.587608</td>\n      <td>0.391294</td>\n      <td>0.272667</td>\n      <td>0.604265</td>\n      <td>0.272667</td>\n      <td>0.490197</td>\n    </tr>\n    <tr>\n      <th>2020-12-24</th>\n      <td>0.486291</td>\n      <td>0.143307</td>\n      <td>0.126876</td>\n      <td>0.143307</td>\n      <td>0.168092</td>\n      <td>-0.033241</td>\n      <td>0.126876</td>\n      <td>-0.033241</td>\n      <td>0.138157</td>\n    </tr>\n    <tr>\n      <th>2020-12-28</th>\n      <td>0.127666</td>\n      <td>0.107266</td>\n      <td>-0.033032</td>\n      <td>0.107266</td>\n      <td>0.181092</td>\n      <td>-0.062607</td>\n      <td>-0.033032</td>\n      <td>-0.062607</td>\n      <td>0.077490</td>\n    </tr>\n    <tr>\n      <th>2020-12-29</th>\n      <td>0.170292</td>\n      <td>0.003433</td>\n      <td>-0.174224</td>\n      <td>0.003433</td>\n      <td>0.192134</td>\n      <td>0.152435</td>\n      <td>-0.174224</td>\n      <td>0.152435</td>\n      <td>0.476490</td>\n    </tr>\n    <tr>\n      <th>2020-12-30</th>\n      <td>0.151692</td>\n      <td>-0.079643</td>\n      <td>-0.314301</td>\n      <td>-0.079643</td>\n      <td>0.087358</td>\n      <td>0.163868</td>\n      <td>-0.314301</td>\n      <td>0.163868</td>\n      <td>0.945797</td>\n    </tr>\n  </tbody>\n</table>\n</div>"
     },
     "metadata": {},
     "execution_count": 132
    }
   ],
   "source": [
    "df = pd.read_csv('../data/close.csv', index_col=0)\n",
    "df = df.iloc[-50:, :3]\n",
    "\n",
    "window = 4\n",
    "corr = df.rolling(window).cov()\n",
    "\n",
    "columns = ['{}/{}'.format(m, n) for (m, n) in itertools.product(df.columns, repeat=2)]\n",
    "\n",
    "corr_flattened = pd.DataFrame(index=columns).transpose()\n",
    "\n",
    "for i in range(df.shape[0]):\n",
    "\n",
    "    data = corr[df.shape[1]*i : df.shape[1]*(i+1)].to_numpy().flatten()\n",
    "    index = [corr.index[df.shape[1]*i][0]]\n",
    "\n",
    "    temp = pd.DataFrame(data=data, columns=index, index=columns).transpose()\n",
    "    corr_flattened = pd.concat([corr_flattened, temp])\n",
    "\n",
    "corr_flattened.tail()"
   ]
  },
  {
   "cell_type": "code",
   "execution_count": 134,
   "metadata": {},
   "outputs": [
    {
     "output_type": "execute_result",
     "data": {
      "text/plain": [
       "             MMM/MMM   MMM/ABT  MMM/ABBV   ABT/ABT  ABT/ABBV  ABBV/ABBV\n",
       "2020-12-23  1.113287  0.587608  0.604265  0.391294  0.272667   0.490197\n",
       "2020-12-24  0.486291  0.143307  0.126876  0.168092 -0.033241   0.138157\n",
       "2020-12-28  0.127666  0.107266 -0.033032  0.181092 -0.062607   0.077490\n",
       "2020-12-29  0.170292  0.003433 -0.174224  0.192134  0.152435   0.476490\n",
       "2020-12-30  0.151692 -0.079643 -0.314301  0.087358  0.163868   0.945797"
      ],
      "text/html": "<div>\n<style scoped>\n    .dataframe tbody tr th:only-of-type {\n        vertical-align: middle;\n    }\n\n    .dataframe tbody tr th {\n        vertical-align: top;\n    }\n\n    .dataframe thead th {\n        text-align: right;\n    }\n</style>\n<table border=\"1\" class=\"dataframe\">\n  <thead>\n    <tr style=\"text-align: right;\">\n      <th></th>\n      <th>MMM/MMM</th>\n      <th>MMM/ABT</th>\n      <th>MMM/ABBV</th>\n      <th>ABT/ABT</th>\n      <th>ABT/ABBV</th>\n      <th>ABBV/ABBV</th>\n    </tr>\n  </thead>\n  <tbody>\n    <tr>\n      <th>2020-12-23</th>\n      <td>1.113287</td>\n      <td>0.587608</td>\n      <td>0.604265</td>\n      <td>0.391294</td>\n      <td>0.272667</td>\n      <td>0.490197</td>\n    </tr>\n    <tr>\n      <th>2020-12-24</th>\n      <td>0.486291</td>\n      <td>0.143307</td>\n      <td>0.126876</td>\n      <td>0.168092</td>\n      <td>-0.033241</td>\n      <td>0.138157</td>\n    </tr>\n    <tr>\n      <th>2020-12-28</th>\n      <td>0.127666</td>\n      <td>0.107266</td>\n      <td>-0.033032</td>\n      <td>0.181092</td>\n      <td>-0.062607</td>\n      <td>0.077490</td>\n    </tr>\n    <tr>\n      <th>2020-12-29</th>\n      <td>0.170292</td>\n      <td>0.003433</td>\n      <td>-0.174224</td>\n      <td>0.192134</td>\n      <td>0.152435</td>\n      <td>0.476490</td>\n    </tr>\n    <tr>\n      <th>2020-12-30</th>\n      <td>0.151692</td>\n      <td>-0.079643</td>\n      <td>-0.314301</td>\n      <td>0.087358</td>\n      <td>0.163868</td>\n      <td>0.945797</td>\n    </tr>\n  </tbody>\n</table>\n</div>"
     },
     "metadata": {},
     "execution_count": 134
    }
   ],
   "source": [
    "\n",
    "\n",
    "df = pd.read_csv('../data/close.csv', index_col=0)\n",
    "df = df.iloc[-50:, :3]\n",
    "\n",
    "def append_corr_matrix(df: pd.DataFrame,\n",
    "                       window: int,\n",
    "                       ) -> pd.DataFrame:\n",
    "\n",
    "    \"\"\"\n",
    "        This code snippet computes the sliding correlation matrix of a multidimensional time series, \\ \n",
    "        timewise flattens it and extract just the upper triangular part (since it is symmetric).\n",
    "    \"\"\"\n",
    "\n",
    "    columns = ['{}/{}'.format(m, n) for (m, n) in itertools.combinations_with_replacement(df.columns, r=2)]\n",
    "    corr = df.rolling(window).cov()\n",
    "    corr_flattened = pd.DataFrame(index=columns).transpose()\n",
    "\n",
    "    for i in range(df.shape[0]):\n",
    "\n",
    "        ind = np.triu_indices(df.shape[1])\n",
    "        data = corr[df.shape[1]*i : df.shape[1]*(i+1)].to_numpy()[ind]\n",
    "        index = [corr.index[df.shape[1]*i][0]]\n",
    "\n",
    "        temp = pd.DataFrame(data=data, columns=index, index=colums).transpose()\n",
    "        corr_flattened = pd.concat([corr_flattened, temp])\n",
    "\n",
    "    return corr_flattened"
   ]
  },
  {
   "cell_type": "code",
   "execution_count": null,
   "metadata": {},
   "outputs": [],
   "source": []
  }
 ],
 "metadata": {
  "kernelspec": {
   "display_name": "Python 3",
   "language": "python",
   "name": "python3"
  },
  "language_info": {
   "name": "python",
   "version": "3.9.5"
  },
  "metadata": {
   "interpreter": {
    "hash": "9f38684a8957c3d65727244c4991ef85190ae848a179fe34d407d72de85d26a5"
   }
  },
  "orig_nbformat": 2
 },
 "nbformat": 4,
 "nbformat_minor": 2
}