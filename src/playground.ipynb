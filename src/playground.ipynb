{
 "cells": [
  {
   "cell_type": "code",
   "execution_count": 1,
   "metadata": {},
   "outputs": [],
   "source": [
    "%load_ext autoreload\n",
    "%autoreload 2\n",
    "import numpy as np\n",
    "import os\n",
    "import pandas as pd\n",
    "import sys\n",
    "path_to_package = '/'.join(os.getcwd().split('/')[:-1])\n",
    "sys.path.append(path_to_package)\n",
    "from src.environment import Environment"
   ]
  },
  {
   "cell_type": "code",
   "execution_count": 2,
   "metadata": {},
   "outputs": [
    {
     "name": "stdout",
     "output_type": "stream",
     "text": [
      "50\n"
     ]
    }
   ],
   "source": [
    "df = pd.read_csv('../data/close.csv', index_col=0)\n",
    "df = df.iloc[-50:, :3]\n",
    "\n",
    "print(df.shape[0])"
   ]
  },
  {
   "cell_type": "code",
   "execution_count": 3,
   "metadata": {},
   "outputs": [],
   "source": [
    "env = Environment(stock_market_history=df,                \n",
    "                  initial_cash_in_bank=10000,\n",
    "                  buy_rate=0.01,\n",
    "                  sell_rate=0.01,\n",
    "                  limit_n_stocks=100,\n",
    "                  buy_rule='most_first')"
   ]
  },
  {
   "cell_type": "code",
   "execution_count": 4,
   "metadata": {},
   "outputs": [
    {
     "name": "stdout",
     "output_type": "stream",
     "text": [
      "[10000.           170.94999695   108.36000061    84.25\n",
      "     0.             0.             0.        ]\n",
      "                   MMM         ABT       ABBV\n",
      "2020-10-20  170.949997  108.360001  84.250000\n",
      "2020-10-21  169.169998  105.930000  82.889999\n",
      "2020-10-22  170.710007  109.480003  84.309998\n",
      "2020-10-23  169.800003  107.790001  84.339996\n",
      "2020-10-26  166.160004  109.000000  83.919998\n",
      "10000.0\n"
     ]
    }
   ],
   "source": [
    "print(env._get_observation())\n",
    "print(env.stock_market_history.head())\n",
    "print(env._get_portfolio_value())"
   ]
  },
  {
   "cell_type": "code",
   "execution_count": 5,
   "metadata": {},
   "outputs": [
    {
     "data": {
      "text/plain": "(array([6384.30102158,  169.16999817,  105.93000031,   82.88999939,\n          10.        ,   10.        ,   10.        ]),\n -35.79899978637695,\n False,\n {'value_portfolio': 9964.201000213623})"
     },
     "execution_count": 5,
     "metadata": {},
     "output_type": "execute_result"
    }
   ],
   "source": [
    "env.step(actions=np.array([.1, .1, .1]))"
   ]
  },
  {
   "cell_type": "code",
   "execution_count": 6,
   "metadata": {},
   "outputs": [
    {
     "data": {
      "text/plain": "9964.201000213623"
     },
     "execution_count": 6,
     "metadata": {},
     "output_type": "execute_result"
    }
   ],
   "source": [
    "env._get_portfolio_value()"
   ]
  },
  {
   "cell_type": "code",
   "execution_count": 7,
   "metadata": {},
   "outputs": [
    {
     "data": {
      "text/plain": "(array([6578.65096283,  170.71000671,  109.48000336,   84.30999756,\n          20.        ,    0.        ,    0.        ]),\n 28.650096893310547,\n False,\n {'value_portfolio': 9992.851097106934})"
     },
     "execution_count": 7,
     "metadata": {},
     "output_type": "execute_result"
    }
   ],
   "source": [
    "env.step(actions=np.array([.1, -.1, -.2]))"
   ]
  },
  {
   "cell_type": "code",
   "execution_count": 8,
   "metadata": {},
   "outputs": [
    {
     "data": {
      "text/plain": "array([6578.65096283,  170.71000671,  109.48000336,   84.30999756,\n         20.        ,    0.        ,    0.        ])"
     },
     "execution_count": 8,
     "metadata": {},
     "output_type": "execute_result"
    }
   ],
   "source": [
    "env._get_observation()"
   ]
  },
  {
   "cell_type": "code",
   "execution_count": null,
   "metadata": {},
   "outputs": [],
   "source": []
  }
 ],
 "metadata": {
  "kernelspec": {
   "display_name": "Python 3",
   "language": "python",
   "name": "python3"
  },
  "language_info": {
   "name": "python",
   "version": ""
  },
  "metadata": {
   "interpreter": {
    "hash": "9f38684a8957c3d65727244c4991ef85190ae848a179fe34d407d72de85d26a5"
   }
  },
  "orig_nbformat": 2
 },
 "nbformat": 4,
 "nbformat_minor": 2
}