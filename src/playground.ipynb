{
 "cells": [
  {
   "cell_type": "code",
   "execution_count": 1,
   "source": [
    "%reload_ext autoreload\n",
    "%autoreload 2\n",
    "import numpy as np\n",
    "import itertools\n",
    "import os\n",
    "import pandas as pd\n",
    "import sys\n",
    "path_to_package = '/'.join(os.getcwd().split('/')[:-1])\n",
    "sys.path.append(path_to_package)"
   ],
   "outputs": [],
   "metadata": {}
  },
  {
   "cell_type": "code",
   "execution_count": null,
   "source": [
    "df = pd.read_csv('../data/close.csv', index_col=0)\n",
    "df = df.iloc[-50:, :3]\n",
    "\n",
    "window = 4\n",
    "corr = df.rolling(window).cov()\n",
    "\n",
    "columns = ['{}/{}'.format(m, n) for (m, n) in itertools.product(df.columns, repeat=2)]\n",
    "\n",
    "corr_flattened = pd.DataFrame(index=columns).transpose()\n",
    "\n",
    "for i in range(df.shape[0]):\n",
    "\n",
    "    data = corr[df.shape[1]*i : df.shape[1]*(i+1)].to_numpy().flatten()\n",
    "    index = [corr.index[df.shape[1]*i][0]]\n",
    "\n",
    "    temp = pd.DataFrame(data=data, columns=index, index=columns).transpose()\n",
    "    corr_flattened = pd.concat([corr_flattened, temp])\n",
    "\n",
    "corr_flattened.tail()"
   ],
   "outputs": [],
   "metadata": {}
  },
  {
   "cell_type": "code",
   "execution_count": null,
   "source": [
    "def append_corr_matrix(df: pd.DataFrame,\n",
    "                       window: int,\n",
    "                       ) -> pd.DataFrame:\n",
    "    \"\"\"\n",
    "        Computes the sliding correlation matrix of a multidimensional time series, \\ \n",
    "        timewise flattens it and extracts just the upper triangular part (since it is symmetric), \\\n",
    "        then appends it to the initial time series.\n",
    "    \"\"\"\n",
    "\n",
    "    columns = ['{}/{}'.format(m, n) for (m, n) in itertools.combinations_with_replacement(df.columns, r=2)]\n",
    "    corr = df.rolling(window).cov()\n",
    "    corr_flattened = pd.DataFrame(index=columns).transpose()\n",
    "\n",
    "    for i in range(window-1, df.shape[0]):\n",
    "\n",
    "        ind = np.triu_indices(df.shape[1])\n",
    "        data = corr[df.shape[1]*i : df.shape[1]*(i+1)].to_numpy()[ind]\n",
    "        index = [corr.index[df.shape[1]*i][0]]\n",
    "\n",
    "        temp = pd.DataFrame(data=data, columns=index, index=columns).transpose()\n",
    "        corr_flattened = pd.concat([corr_flattened, temp])\n",
    "\n",
    "    return pd.concat([df.iloc[window-1 : ], corr_flattened], axis=1)"
   ],
   "outputs": [],
   "metadata": {}
  },
  {
   "cell_type": "code",
   "execution_count": null,
   "source": [
    "def append_corr_matrix2(df: pd.DataFrame,\n",
    "                       window: int,\n",
    "                       ) -> pd.DataFrame:\n",
    "    \"\"\"\n",
    "        Computes the sliding correlation matrix of a multidimensional time series, \\ \n",
    "        timewise flattens it and extracts just the upper triangular part (since it is symmetric), \\\n",
    "        then appends it to the initial time series.\n",
    "    \"\"\"\n",
    "\n",
    "    columns = ['{}/{}'.format(m, n) for (m, n) in itertools.combinations_with_replacement(df.columns, r=2)]\n",
    "    corr = df.rolling(window).cov()\n",
    "    corr_flattened = pd.DataFrame(index=columns).transpose()\n",
    "\n",
    "    for i in range(df.shape[0]):\n",
    "\n",
    "        ind = np.triu_indices(df.shape[1])\n",
    "        data = corr[df.shape[1]*i : df.shape[1]*(i+1)].to_numpy()[ind]\n",
    "        index = [corr.index[df.shape[1]*i][0]]\n",
    "\n",
    "        temp = pd.DataFrame(data=data, columns=index, index=columns).transpose()\n",
    "        corr_flattened = pd.concat([corr_flattened, temp])\n",
    "\n",
    "    return pd.concat([df, corr_flattened], axis=1).iloc[window-1 : ]"
   ],
   "outputs": [],
   "metadata": {}
  },
  {
   "cell_type": "code",
   "execution_count": null,
   "source": [
    "corr_flattened = append_corr_matrix(df, 4)\n",
    "corr_flattened2 = append_corr_matrix2(df, 4)\n",
    "print(corr_flattened.index)\n",
    "print(corr_flattened2.index)"
   ],
   "outputs": [],
   "metadata": {}
  },
  {
   "cell_type": "code",
   "execution_count": null,
   "source": [
    "df = pd.read_csv('../data/close.csv', index_col=0)\n",
    "df = df.iloc[-50:, :3]\n",
    "\n",
    "window = 4\n",
    "\n",
    "columns = ['Eigenvalue_{}'.format(m+1) for m in range(2)]\n",
    "corr = df.rolling(window).cov()\n",
    "corr_flattened = pd.DataFrame(index=columns).transpose()\n",
    "\n",
    "for i in range(window-1, df.shape[0]):\n",
    "    ind = np.triu_indices(df.shape[1])\n",
    "    data = corr[df.shape[1]*i : df.shape[1]*(i+1)].to_numpy()\n",
    "    data = np.linalg.eig(data)\n",
    "    data = data[0]\n",
    "    data[::-1].sort()\n",
    "    data = data[:2]\n",
    "\n",
    "    index = [corr.index[df.shape[1]*i][0]]\n",
    "    temp = pd.DataFrame(data=data, columns=index, index=columns).transpose()\n",
    "    corr_flattened = pd.concat([corr_flattened, temp])\n",
    "\n",
    "pd.concat([df.iloc[window-1 : ], corr_flattened], axis=1)\n"
   ],
   "outputs": [],
   "metadata": {}
  },
  {
   "cell_type": "code",
   "execution_count": null,
   "source": [
    "def append_corr_matrix_eigenvalues(df: pd.DataFrame,\n",
    "                                   window: int,\n",
    "                                   k: int = 10\n",
    "                                   ) -> pd.DataFrame:\n",
    "    \n",
    "    columns = ['Eigenvalue_{}'.format(m+1) for m in range(k)]\n",
    "    corr = df.rolling(window).cov()\n",
    "    corr_eigenvalues = pd.DataFrame(index=columns).transpose()\n",
    "\n",
    "    for i in range(window-1, df.shape[0]):\n",
    "        data = corr[df.shape[1]*i : df.shape[1]*(i+1)].to_numpy()\n",
    "        data = np.linalg.eig(data)\n",
    "        data = data[0]\n",
    "        data[::-1].sort()\n",
    "        data = data[:k]\n",
    "\n",
    "        index = [corr.index[df.shape[1]*i][0]]\n",
    "        temp = pd.DataFrame(data=data, columns=index, index=columns).transpose()\n",
    "        corr_eigenvalues = pd.concat([corr_eigenvalues, temp])\n",
    "\n",
    "    return pd.concat([df.iloc[window-1 : ], corr_eigenvalues], axis=1)"
   ],
   "outputs": [],
   "metadata": {}
  },
  {
   "cell_type": "code",
   "execution_count": null,
   "source": [
    "df = pd.read_csv('../data/close.csv', index_col=0)"
   ],
   "outputs": [],
   "metadata": {}
  },
  {
   "cell_type": "code",
   "execution_count": null,
   "source": [
    "df.columns.shape"
   ],
   "outputs": [],
   "metadata": {}
  },
  {
   "cell_type": "code",
   "execution_count": null,
   "source": [],
   "outputs": [],
   "metadata": {}
  },
  {
   "cell_type": "code",
   "execution_count": null,
   "source": [
    "with open(\"./tickers_S&P500.txt\", \"r\") as file:\n",
    "    lines = file.readlines()\n",
    "    a = []\n",
    "    for l in lines:\n",
    "\t    a.append(l.replace(\"\\n\", \"\"))"
   ],
   "outputs": [],
   "metadata": {}
  },
  {
   "cell_type": "code",
   "execution_count": null,
   "source": [
    "initial_number_of_shares = {key: 0 for key in a}"
   ],
   "outputs": [],
   "metadata": {}
  },
  {
   "cell_type": "code",
   "execution_count": null,
   "source": [
    "import json"
   ],
   "outputs": [],
   "metadata": {}
  },
  {
   "cell_type": "code",
   "execution_count": null,
   "source": [
    "with open(\"./initial_portfolio.json\", \"w\") as file:\n",
    "    file = json.dump(initial_number_of_shares, file)"
   ],
   "outputs": [],
   "metadata": {}
  },
  {
   "cell_type": "code",
   "execution_count": 13,
   "source": [
    "np.array([[1,2],[3,4]])"
   ],
   "outputs": [
    {
     "output_type": "execute_result",
     "data": {
      "text/plain": [
       "array([[1, 2],\n",
       "       [3, 4]])"
      ]
     },
     "metadata": {},
     "execution_count": 13
    }
   ],
   "metadata": {}
  },
  {
   "cell_type": "code",
   "execution_count": 18,
   "source": [
    "reward_history = np.load(\"../saved_outputs/2021.07.23.14.10.51/logs/reward_history.npy\")\n",
    "portfolio_value_history = np.load(\"../saved_outputs/2021.07.23.14.10.51/logs/portfolio_value_history.npy\")"
   ],
   "outputs": [],
   "metadata": {}
  },
  {
   "cell_type": "code",
   "execution_count": 21,
   "source": [
    "portfolio_value_history.shape"
   ],
   "outputs": [
    {
     "output_type": "execute_result",
     "data": {
      "text/plain": [
       "(2, 1133)"
      ]
     },
     "metadata": {},
     "execution_count": 21
    }
   ],
   "metadata": {}
  },
  {
   "cell_type": "code",
   "execution_count": 4,
   "source": [
    "a = np.load('../saved_outputs/2021.07.24.23.35.30/logs/train_reward_history.npy')"
   ],
   "outputs": [],
   "metadata": {}
  },
  {
   "cell_type": "code",
   "execution_count": 7,
   "source": [
    "a"
   ],
   "outputs": [
    {
     "output_type": "execute_result",
     "data": {
      "text/plain": [
       "array([-1781.36702073, -1087.07777719,   794.85202478,  2148.68619929,\n",
       "        1368.92762171,  1429.18426939,  1634.23469595,  1383.7153149 ,\n",
       "         796.82555529, -1811.02160287, -1401.41648666,  1629.895154  ,\n",
       "        1544.86718447,   754.62028372,  -405.71290236])"
      ]
     },
     "metadata": {},
     "execution_count": 7
    }
   ],
   "metadata": {}
  },
  {
   "cell_type": "code",
   "execution_count": 8,
   "source": [
    "i = 100000"
   ],
   "outputs": [],
   "metadata": {}
  },
  {
   "cell_type": "code",
   "execution_count": 10,
   "source": [
    "(i + a) / i"
   ],
   "outputs": [
    {
     "output_type": "execute_result",
     "data": {
      "text/plain": [
       "array([0.98218633, 0.98912922, 1.00794852, 1.02148686, 1.01368928,\n",
       "       1.01429184, 1.01634235, 1.01383715, 1.00796826, 0.98188978,\n",
       "       0.98598584, 1.01629895, 1.01544867, 1.0075462 , 0.99594287])"
      ]
     },
     "metadata": {},
     "execution_count": 10
    }
   ],
   "metadata": {}
  },
  {
   "cell_type": "code",
   "execution_count": null,
   "source": [],
   "outputs": [],
   "metadata": {}
  }
 ],
 "metadata": {
  "interpreter": {
   "hash": "9d959dad163c89cc5fb75df1327c2a9d6633240c42655880c50c54489954a6d0"
  },
  "kernelspec": {
   "name": "python3",
   "display_name": "Python 3.9.5 64-bit ('.env': venv)"
  },
  "language_info": {
   "codemirror_mode": {
    "name": "ipython",
    "version": 3
   },
   "file_extension": ".py",
   "mimetype": "text/x-python",
   "name": "python",
   "nbconvert_exporter": "python",
   "pygments_lexer": "ipython3",
   "version": "3.9.5"
  },
  "metadata": {
   "interpreter": {
    "hash": "9f38684a8957c3d65727244c4991ef85190ae848a179fe34d407d72de85d26a5"
   }
  },
  "orig_nbformat": 2
 },
 "nbformat": 4,
 "nbformat_minor": 2
}