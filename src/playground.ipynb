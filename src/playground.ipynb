{
 "cells": [
  {
   "cell_type": "code",
   "execution_count": 12,
   "metadata": {},
   "outputs": [
    {
     "name": "stdout",
     "output_type": "stream",
     "text": [
      "The autoreload extension is already loaded. To reload it, use:\n",
      "  %reload_ext autoreload\n"
     ]
    }
   ],
   "source": [
    "%load_ext autoreload\n",
    "%autoreload 2\n",
    "import numpy as np\n",
    "import os\n",
    "import pandas as pd\n",
    "import sys\n",
    "path_to_package = '/'.join(os.getcwd().split('/')[:-1])\n",
    "sys.path.append(path_to_package)\n",
    "from src.environment import Environment"
   ]
  },
  {
   "cell_type": "code",
   "execution_count": 22,
   "metadata": {},
   "outputs": [
    {
     "name": "stdout",
     "output_type": "stream",
     "text": [
      "20\n"
     ]
    }
   ],
   "source": [
    "df = pd.read_csv('../data/close.csv', index_col=0)\n",
    "df = df.iloc[-20:, :3]\n",
    "\n",
    "print(df.shape[0])"
   ]
  },
  {
   "cell_type": "code",
   "execution_count": 31,
   "metadata": {},
   "outputs": [
    {
     "data": {
      "text/plain": "3"
     },
     "execution_count": 31,
     "metadata": {},
     "output_type": "execute_result"
    }
   ],
   "source": [
    "df.shape[1]"
   ]
  },
  {
   "cell_type": "code",
   "execution_count": 38,
   "metadata": {},
   "outputs": [
    {
     "data": {
      "text/html": "<div>\n<style scoped>\n    .dataframe tbody tr th:only-of-type {\n        vertical-align: middle;\n    }\n\n    .dataframe tbody tr th {\n        vertical-align: top;\n    }\n\n    .dataframe thead th {\n        text-align: right;\n    }\n</style>\n<table border=\"1\" class=\"dataframe\">\n  <thead>\n    <tr style=\"text-align: right;\">\n      <th></th>\n      <th></th>\n      <th>MMM</th>\n      <th>ABT</th>\n      <th>ABBV</th>\n    </tr>\n  </thead>\n  <tbody>\n    <tr>\n      <th rowspan=\"3\" valign=\"top\">2020-12-07</th>\n      <th>MMM</th>\n      <td>0.984836</td>\n      <td>0.332769</td>\n      <td>0.252961</td>\n    </tr>\n    <tr>\n      <th>ABT</th>\n      <td>0.332769</td>\n      <td>0.180467</td>\n      <td>0.029134</td>\n    </tr>\n    <tr>\n      <th>ABBV</th>\n      <td>0.252961</td>\n      <td>0.029134</td>\n      <td>1.313692</td>\n    </tr>\n    <tr>\n      <th rowspan=\"3\" valign=\"top\">2020-12-08</th>\n      <th>MMM</th>\n      <td>1.190713</td>\n      <td>0.095551</td>\n      <td>0.767557</td>\n    </tr>\n    <tr>\n      <th>ABT</th>\n      <td>0.095551</td>\n      <td>0.222091</td>\n      <td>-0.142990</td>\n    </tr>\n    <tr>\n      <th>ABBV</th>\n      <td>0.767557</td>\n      <td>-0.142990</td>\n      <td>1.835697</td>\n    </tr>\n    <tr>\n      <th rowspan=\"3\" valign=\"top\">2020-12-09</th>\n      <th>MMM</th>\n      <td>4.425797</td>\n      <td>-0.788731</td>\n      <td>2.404435</td>\n    </tr>\n    <tr>\n      <th>ABT</th>\n      <td>-0.788731</td>\n      <td>0.444934</td>\n      <td>-0.434800</td>\n    </tr>\n    <tr>\n      <th>ABBV</th>\n      <td>2.404435</td>\n      <td>-0.434800</td>\n      <td>1.380469</td>\n    </tr>\n    <tr>\n      <th rowspan=\"3\" valign=\"top\">2020-12-10</th>\n      <th>MMM</th>\n      <td>4.601759</td>\n      <td>-0.792452</td>\n      <td>2.418511</td>\n    </tr>\n    <tr>\n      <th>ABT</th>\n      <td>-0.792452</td>\n      <td>0.139034</td>\n      <td>-0.406350</td>\n    </tr>\n    <tr>\n      <th>ABBV</th>\n      <td>2.418511</td>\n      <td>-0.406350</td>\n      <td>1.378894</td>\n    </tr>\n    <tr>\n      <th rowspan=\"3\" valign=\"top\">2020-12-11</th>\n      <th>MMM</th>\n      <td>1.386420</td>\n      <td>-0.190633</td>\n      <td>0.411244</td>\n    </tr>\n    <tr>\n      <th>ABT</th>\n      <td>-0.190633</td>\n      <td>0.094767</td>\n      <td>-0.262782</td>\n    </tr>\n    <tr>\n      <th>ABBV</th>\n      <td>0.411244</td>\n      <td>-0.262782</td>\n      <td>0.913894</td>\n    </tr>\n    <tr>\n      <th rowspan=\"3\" valign=\"top\">2020-12-14</th>\n      <th>MMM</th>\n      <td>0.922458</td>\n      <td>-0.159765</td>\n      <td>1.476062</td>\n    </tr>\n    <tr>\n      <th>ABT</th>\n      <td>-0.159765</td>\n      <td>0.093891</td>\n      <td>-0.411585</td>\n    </tr>\n    <tr>\n      <th>ABBV</th>\n      <td>1.476062</td>\n      <td>-0.411585</td>\n      <td>3.627369</td>\n    </tr>\n    <tr>\n      <th rowspan=\"3\" valign=\"top\">2020-12-15</th>\n      <th>MMM</th>\n      <td>0.478686</td>\n      <td>0.234747</td>\n      <td>-0.611447</td>\n    </tr>\n    <tr>\n      <th>ABT</th>\n      <td>0.234747</td>\n      <td>0.155100</td>\n      <td>-0.644885</td>\n    </tr>\n    <tr>\n      <th>ABBV</th>\n      <td>-0.611447</td>\n      <td>-0.644885</td>\n      <td>4.402488</td>\n    </tr>\n    <tr>\n      <th rowspan=\"3\" valign=\"top\">2020-12-16</th>\n      <th>MMM</th>\n      <td>0.981090</td>\n      <td>0.266831</td>\n      <td>-0.210725</td>\n    </tr>\n    <tr>\n      <th>ABT</th>\n      <td>0.266831</td>\n      <td>0.090866</td>\n      <td>-0.202867</td>\n    </tr>\n    <tr>\n      <th>ABBV</th>\n      <td>-0.210725</td>\n      <td>-0.202867</td>\n      <td>2.105863</td>\n    </tr>\n    <tr>\n      <th rowspan=\"3\" valign=\"top\">2020-12-17</th>\n      <th>MMM</th>\n      <td>2.223760</td>\n      <td>1.147262</td>\n      <td>0.583087</td>\n    </tr>\n    <tr>\n      <th>ABT</th>\n      <td>1.147262</td>\n      <td>0.712733</td>\n      <td>0.301434</td>\n    </tr>\n    <tr>\n      <th>ABBV</th>\n      <td>0.583087</td>\n      <td>0.301434</td>\n      <td>0.852825</td>\n    </tr>\n    <tr>\n      <th rowspan=\"3\" valign=\"top\">2020-12-18</th>\n      <th>MMM</th>\n      <td>0.837667</td>\n      <td>0.714400</td>\n      <td>0.705168</td>\n    </tr>\n    <tr>\n      <th>ABT</th>\n      <td>0.714400</td>\n      <td>0.738170</td>\n      <td>0.416433</td>\n    </tr>\n    <tr>\n      <th>ABBV</th>\n      <td>0.705168</td>\n      <td>0.416433</td>\n      <td>0.878866</td>\n    </tr>\n    <tr>\n      <th rowspan=\"3\" valign=\"top\">2020-12-21</th>\n      <th>MMM</th>\n      <td>0.352561</td>\n      <td>0.410632</td>\n      <td>0.143115</td>\n    </tr>\n    <tr>\n      <th>ABT</th>\n      <td>0.410632</td>\n      <td>0.548303</td>\n      <td>0.061217</td>\n    </tr>\n    <tr>\n      <th>ABBV</th>\n      <td>0.143115</td>\n      <td>0.061217</td>\n      <td>0.258092</td>\n    </tr>\n    <tr>\n      <th rowspan=\"3\" valign=\"top\">2020-12-22</th>\n      <th>MMM</th>\n      <td>0.714288</td>\n      <td>0.267299</td>\n      <td>0.770571</td>\n    </tr>\n    <tr>\n      <th>ABT</th>\n      <td>0.267299</td>\n      <td>0.170735</td>\n      <td>0.282700</td>\n    </tr>\n    <tr>\n      <th>ABBV</th>\n      <td>0.770571</td>\n      <td>0.282700</td>\n      <td>0.837688</td>\n    </tr>\n    <tr>\n      <th rowspan=\"3\" valign=\"top\">2020-12-23</th>\n      <th>MMM</th>\n      <td>1.113287</td>\n      <td>0.587608</td>\n      <td>0.604265</td>\n    </tr>\n    <tr>\n      <th>ABT</th>\n      <td>0.587608</td>\n      <td>0.391294</td>\n      <td>0.272667</td>\n    </tr>\n    <tr>\n      <th>ABBV</th>\n      <td>0.604265</td>\n      <td>0.272667</td>\n      <td>0.490197</td>\n    </tr>\n    <tr>\n      <th rowspan=\"3\" valign=\"top\">2020-12-24</th>\n      <th>MMM</th>\n      <td>0.486291</td>\n      <td>0.143307</td>\n      <td>0.126876</td>\n    </tr>\n    <tr>\n      <th>ABT</th>\n      <td>0.143307</td>\n      <td>0.168092</td>\n      <td>-0.033241</td>\n    </tr>\n    <tr>\n      <th>ABBV</th>\n      <td>0.126876</td>\n      <td>-0.033241</td>\n      <td>0.138157</td>\n    </tr>\n    <tr>\n      <th rowspan=\"3\" valign=\"top\">2020-12-28</th>\n      <th>MMM</th>\n      <td>0.127666</td>\n      <td>0.107266</td>\n      <td>-0.033032</td>\n    </tr>\n    <tr>\n      <th>ABT</th>\n      <td>0.107266</td>\n      <td>0.181092</td>\n      <td>-0.062607</td>\n    </tr>\n    <tr>\n      <th>ABBV</th>\n      <td>-0.033032</td>\n      <td>-0.062607</td>\n      <td>0.077490</td>\n    </tr>\n    <tr>\n      <th rowspan=\"3\" valign=\"top\">2020-12-29</th>\n      <th>MMM</th>\n      <td>0.170292</td>\n      <td>0.003433</td>\n      <td>-0.174224</td>\n    </tr>\n    <tr>\n      <th>ABT</th>\n      <td>0.003433</td>\n      <td>0.192134</td>\n      <td>0.152435</td>\n    </tr>\n    <tr>\n      <th>ABBV</th>\n      <td>-0.174224</td>\n      <td>0.152435</td>\n      <td>0.476490</td>\n    </tr>\n    <tr>\n      <th rowspan=\"3\" valign=\"top\">2020-12-30</th>\n      <th>MMM</th>\n      <td>0.151692</td>\n      <td>-0.079643</td>\n      <td>-0.314301</td>\n    </tr>\n    <tr>\n      <th>ABT</th>\n      <td>-0.079643</td>\n      <td>0.087358</td>\n      <td>0.163868</td>\n    </tr>\n    <tr>\n      <th>ABBV</th>\n      <td>-0.314301</td>\n      <td>0.163868</td>\n      <td>0.945797</td>\n    </tr>\n  </tbody>\n</table>\n</div>",
      "text/plain": "                      MMM       ABT      ABBV\n2020-12-07 MMM   0.984836  0.332769  0.252961\n           ABT   0.332769  0.180467  0.029134\n           ABBV  0.252961  0.029134  1.313692\n2020-12-08 MMM   1.190713  0.095551  0.767557\n           ABT   0.095551  0.222091 -0.142990\n           ABBV  0.767557 -0.142990  1.835697\n2020-12-09 MMM   4.425797 -0.788731  2.404435\n           ABT  -0.788731  0.444934 -0.434800\n           ABBV  2.404435 -0.434800  1.380469\n2020-12-10 MMM   4.601759 -0.792452  2.418511\n           ABT  -0.792452  0.139034 -0.406350\n           ABBV  2.418511 -0.406350  1.378894\n2020-12-11 MMM   1.386420 -0.190633  0.411244\n           ABT  -0.190633  0.094767 -0.262782\n           ABBV  0.411244 -0.262782  0.913894\n2020-12-14 MMM   0.922458 -0.159765  1.476062\n           ABT  -0.159765  0.093891 -0.411585\n           ABBV  1.476062 -0.411585  3.627369\n2020-12-15 MMM   0.478686  0.234747 -0.611447\n           ABT   0.234747  0.155100 -0.644885\n           ABBV -0.611447 -0.644885  4.402488\n2020-12-16 MMM   0.981090  0.266831 -0.210725\n           ABT   0.266831  0.090866 -0.202867\n           ABBV -0.210725 -0.202867  2.105863\n2020-12-17 MMM   2.223760  1.147262  0.583087\n           ABT   1.147262  0.712733  0.301434\n           ABBV  0.583087  0.301434  0.852825\n2020-12-18 MMM   0.837667  0.714400  0.705168\n           ABT   0.714400  0.738170  0.416433\n           ABBV  0.705168  0.416433  0.878866\n2020-12-21 MMM   0.352561  0.410632  0.143115\n           ABT   0.410632  0.548303  0.061217\n           ABBV  0.143115  0.061217  0.258092\n2020-12-22 MMM   0.714288  0.267299  0.770571\n           ABT   0.267299  0.170735  0.282700\n           ABBV  0.770571  0.282700  0.837688\n2020-12-23 MMM   1.113287  0.587608  0.604265\n           ABT   0.587608  0.391294  0.272667\n           ABBV  0.604265  0.272667  0.490197\n2020-12-24 MMM   0.486291  0.143307  0.126876\n           ABT   0.143307  0.168092 -0.033241\n           ABBV  0.126876 -0.033241  0.138157\n2020-12-28 MMM   0.127666  0.107266 -0.033032\n           ABT   0.107266  0.181092 -0.062607\n           ABBV -0.033032 -0.062607  0.077490\n2020-12-29 MMM   0.170292  0.003433 -0.174224\n           ABT   0.003433  0.192134  0.152435\n           ABBV -0.174224  0.152435  0.476490\n2020-12-30 MMM   0.151692 -0.079643 -0.314301\n           ABT  -0.079643  0.087358  0.163868\n           ABBV -0.314301  0.163868  0.945797"
     },
     "execution_count": 38,
     "metadata": {},
     "output_type": "execute_result"
    }
   ],
   "source": [
    "window = 4\n",
    "df.rolling(window).cov().iloc[df.shape[1] * (window - 1) : ]"
   ]
  },
  {
   "cell_type": "code",
   "execution_count": null,
   "metadata": {},
   "outputs": [],
   "source": []
  }
 ],
 "metadata": {
  "kernelspec": {
   "display_name": "Python 3",
   "language": "python",
   "name": "python3"
  },
  "language_info": {
   "name": "python",
   "version": ""
  },
  "metadata": {
   "interpreter": {
    "hash": "9f38684a8957c3d65727244c4991ef85190ae848a179fe34d407d72de85d26a5"
   }
  },
  "orig_nbformat": 2
 },
 "nbformat": 4,
 "nbformat_minor": 2
}