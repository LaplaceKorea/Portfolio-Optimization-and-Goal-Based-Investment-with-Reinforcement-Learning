{
 "cells": [
  {
   "cell_type": "code",
   "execution_count": 2,
   "metadata": {},
   "outputs": [],
   "source": [
    "%reload_ext autoreload\n",
    "%autoreload 2\n",
    "import numpy as np\n",
    "import itertools\n",
    "import os\n",
    "import pandas as pd\n",
    "import sys\n",
    "path_to_package = '/'.join(os.getcwd().split('/')[:-1])\n",
    "sys.path.append(path_to_package)"
   ]
  },
  {
   "cell_type": "code",
   "execution_count": 3,
   "metadata": {},
   "outputs": [
    {
     "output_type": "execute_result",
     "data": {
      "text/plain": [
       "             MMM/MMM   MMM/ABT  MMM/ABBV   ABT/MMM   ABT/ABT  ABT/ABBV  \\\n",
       "2020-12-23  1.113287  0.587608  0.604265  0.587608  0.391294  0.272667   \n",
       "2020-12-24  0.486291  0.143307  0.126876  0.143307  0.168092 -0.033241   \n",
       "2020-12-28  0.127666  0.107266 -0.033032  0.107266  0.181092 -0.062607   \n",
       "2020-12-29  0.170292  0.003433 -0.174224  0.003433  0.192134  0.152435   \n",
       "2020-12-30  0.151692 -0.079643 -0.314301 -0.079643  0.087358  0.163868   \n",
       "\n",
       "            ABBV/MMM  ABBV/ABT  ABBV/ABBV  \n",
       "2020-12-23  0.604265  0.272667   0.490197  \n",
       "2020-12-24  0.126876 -0.033241   0.138157  \n",
       "2020-12-28 -0.033032 -0.062607   0.077490  \n",
       "2020-12-29 -0.174224  0.152435   0.476490  \n",
       "2020-12-30 -0.314301  0.163868   0.945797  "
      ],
      "text/html": "<div>\n<style scoped>\n    .dataframe tbody tr th:only-of-type {\n        vertical-align: middle;\n    }\n\n    .dataframe tbody tr th {\n        vertical-align: top;\n    }\n\n    .dataframe thead th {\n        text-align: right;\n    }\n</style>\n<table border=\"1\" class=\"dataframe\">\n  <thead>\n    <tr style=\"text-align: right;\">\n      <th></th>\n      <th>MMM/MMM</th>\n      <th>MMM/ABT</th>\n      <th>MMM/ABBV</th>\n      <th>ABT/MMM</th>\n      <th>ABT/ABT</th>\n      <th>ABT/ABBV</th>\n      <th>ABBV/MMM</th>\n      <th>ABBV/ABT</th>\n      <th>ABBV/ABBV</th>\n    </tr>\n  </thead>\n  <tbody>\n    <tr>\n      <th>2020-12-23</th>\n      <td>1.113287</td>\n      <td>0.587608</td>\n      <td>0.604265</td>\n      <td>0.587608</td>\n      <td>0.391294</td>\n      <td>0.272667</td>\n      <td>0.604265</td>\n      <td>0.272667</td>\n      <td>0.490197</td>\n    </tr>\n    <tr>\n      <th>2020-12-24</th>\n      <td>0.486291</td>\n      <td>0.143307</td>\n      <td>0.126876</td>\n      <td>0.143307</td>\n      <td>0.168092</td>\n      <td>-0.033241</td>\n      <td>0.126876</td>\n      <td>-0.033241</td>\n      <td>0.138157</td>\n    </tr>\n    <tr>\n      <th>2020-12-28</th>\n      <td>0.127666</td>\n      <td>0.107266</td>\n      <td>-0.033032</td>\n      <td>0.107266</td>\n      <td>0.181092</td>\n      <td>-0.062607</td>\n      <td>-0.033032</td>\n      <td>-0.062607</td>\n      <td>0.077490</td>\n    </tr>\n    <tr>\n      <th>2020-12-29</th>\n      <td>0.170292</td>\n      <td>0.003433</td>\n      <td>-0.174224</td>\n      <td>0.003433</td>\n      <td>0.192134</td>\n      <td>0.152435</td>\n      <td>-0.174224</td>\n      <td>0.152435</td>\n      <td>0.476490</td>\n    </tr>\n    <tr>\n      <th>2020-12-30</th>\n      <td>0.151692</td>\n      <td>-0.079643</td>\n      <td>-0.314301</td>\n      <td>-0.079643</td>\n      <td>0.087358</td>\n      <td>0.163868</td>\n      <td>-0.314301</td>\n      <td>0.163868</td>\n      <td>0.945797</td>\n    </tr>\n  </tbody>\n</table>\n</div>"
     },
     "metadata": {},
     "execution_count": 3
    }
   ],
   "source": [
    "df = pd.read_csv('../data/close.csv', index_col=0)\n",
    "df = df.iloc[-50:, :3]\n",
    "\n",
    "window = 4\n",
    "corr = df.rolling(window).cov()\n",
    "\n",
    "columns = ['{}/{}'.format(m, n) for (m, n) in itertools.product(df.columns, repeat=2)]\n",
    "\n",
    "corr_flattened = pd.DataFrame(index=columns).transpose()\n",
    "\n",
    "for i in range(df.shape[0]):\n",
    "\n",
    "    data = corr[df.shape[1]*i : df.shape[1]*(i+1)].to_numpy().flatten()\n",
    "    index = [corr.index[df.shape[1]*i][0]]\n",
    "\n",
    "    temp = pd.DataFrame(data=data, columns=index, index=columns).transpose()\n",
    "    corr_flattened = pd.concat([corr_flattened, temp])\n",
    "\n",
    "corr_flattened.tail()"
   ]
  },
  {
   "cell_type": "code",
   "execution_count": 39,
   "metadata": {},
   "outputs": [],
   "source": [
    "def append_corr_matrix(df: pd.DataFrame,\n",
    "                       window: int,\n",
    "                       ) -> pd.DataFrame:\n",
    "    \"\"\"\n",
    "        Computes the sliding correlation matrix of a multidimensional time series, \\ \n",
    "        timewise flattens it and extracts just the upper triangular part (since it is symmetric), \\\n",
    "        then appends it to the initial time series.\n",
    "    \"\"\"\n",
    "\n",
    "    columns = ['{}/{}'.format(m, n) for (m, n) in itertools.combinations_with_replacement(df.columns, r=2)]\n",
    "    corr = df.rolling(window).cov()\n",
    "    corr_flattened = pd.DataFrame(index=columns).transpose()\n",
    "\n",
    "    for i in range(df.shape[0]):\n",
    "\n",
    "        ind = np.triu_indices(df.shape[1])\n",
    "        data = corr[df.shape[1]*i : df.shape[1]*(i+1)].to_numpy()[ind]\n",
    "        index = [corr.index[df.shape[1]*i][0]]\n",
    "\n",
    "        temp = pd.DataFrame(data=data, columns=index, index=columns).transpose()\n",
    "        corr_flattened = pd.concat([corr_flattened, temp])\n",
    "\n",
    "    return pd.concat([df, corr_flattened], axis=1).iloc[window-1 : ]"
   ]
  },
  {
   "cell_type": "code",
   "execution_count": 41,
   "metadata": {},
   "outputs": [
    {
     "output_type": "execute_result",
     "data": {
      "text/plain": [
       "                   MMM         ABT       ABBV    MMM/MMM   MMM/ABT  MMM/ABBV  \\\n",
       "2020-10-23  169.800003  107.790001  84.339996   0.678760  1.074071  0.447993   \n",
       "2020-10-26  166.160004  109.000000  83.919998   3.884069 -0.273692  0.273001   \n",
       "2020-10-27  161.029999  108.580002  82.709999  19.309392  0.271319  3.272198   \n",
       "2020-10-28  158.529999  106.419998  80.489998  25.663291  2.612271  8.095133   \n",
       "2020-10-29  158.479996  105.000000  80.669998  13.022622  5.596673  5.673438   \n",
       "\n",
       "             ABT/ABT  ABT/ABBV  ABBV/ABBV  \n",
       "2020-10-23  2.200203  0.917333   0.498424  \n",
       "2020-10-26  2.503136  0.877366   0.459098  \n",
       "2020-10-27  0.513426  0.024067   0.584198  \n",
       "2020-10-28  1.288628  1.469286   2.984432  \n",
       "2020-10-29  3.527603  2.850035   2.742826  "
      ],
      "text/html": "<div>\n<style scoped>\n    .dataframe tbody tr th:only-of-type {\n        vertical-align: middle;\n    }\n\n    .dataframe tbody tr th {\n        vertical-align: top;\n    }\n\n    .dataframe thead th {\n        text-align: right;\n    }\n</style>\n<table border=\"1\" class=\"dataframe\">\n  <thead>\n    <tr style=\"text-align: right;\">\n      <th></th>\n      <th>MMM</th>\n      <th>ABT</th>\n      <th>ABBV</th>\n      <th>MMM/MMM</th>\n      <th>MMM/ABT</th>\n      <th>MMM/ABBV</th>\n      <th>ABT/ABT</th>\n      <th>ABT/ABBV</th>\n      <th>ABBV/ABBV</th>\n    </tr>\n  </thead>\n  <tbody>\n    <tr>\n      <th>2020-10-23</th>\n      <td>169.800003</td>\n      <td>107.790001</td>\n      <td>84.339996</td>\n      <td>0.678760</td>\n      <td>1.074071</td>\n      <td>0.447993</td>\n      <td>2.200203</td>\n      <td>0.917333</td>\n      <td>0.498424</td>\n    </tr>\n    <tr>\n      <th>2020-10-26</th>\n      <td>166.160004</td>\n      <td>109.000000</td>\n      <td>83.919998</td>\n      <td>3.884069</td>\n      <td>-0.273692</td>\n      <td>0.273001</td>\n      <td>2.503136</td>\n      <td>0.877366</td>\n      <td>0.459098</td>\n    </tr>\n    <tr>\n      <th>2020-10-27</th>\n      <td>161.029999</td>\n      <td>108.580002</td>\n      <td>82.709999</td>\n      <td>19.309392</td>\n      <td>0.271319</td>\n      <td>3.272198</td>\n      <td>0.513426</td>\n      <td>0.024067</td>\n      <td>0.584198</td>\n    </tr>\n    <tr>\n      <th>2020-10-28</th>\n      <td>158.529999</td>\n      <td>106.419998</td>\n      <td>80.489998</td>\n      <td>25.663291</td>\n      <td>2.612271</td>\n      <td>8.095133</td>\n      <td>1.288628</td>\n      <td>1.469286</td>\n      <td>2.984432</td>\n    </tr>\n    <tr>\n      <th>2020-10-29</th>\n      <td>158.479996</td>\n      <td>105.000000</td>\n      <td>80.669998</td>\n      <td>13.022622</td>\n      <td>5.596673</td>\n      <td>5.673438</td>\n      <td>3.527603</td>\n      <td>2.850035</td>\n      <td>2.742826</td>\n    </tr>\n  </tbody>\n</table>\n</div>"
     },
     "metadata": {},
     "execution_count": 41
    }
   ],
   "source": [
    "corr_flattened = append_corr_matrix(df, 4)\n",
    "corr_flattened.head()"
   ]
  },
  {
   "cell_type": "code",
   "execution_count": 47,
   "metadata": {},
   "outputs": [],
   "source": [
    "a = corr_flattened.iloc[4]"
   ]
  },
  {
   "cell_type": "code",
   "execution_count": 51,
   "metadata": {},
   "outputs": [
    {
     "output_type": "execute_result",
     "data": {
      "text/plain": [
       "9"
      ]
     },
     "metadata": {},
     "execution_count": 51
    }
   ],
   "source": [
    "a.shape[0]"
   ]
  },
  {
   "cell_type": "code",
   "execution_count": null,
   "metadata": {},
   "outputs": [],
   "source": []
  }
 ],
 "metadata": {
  "kernelspec": {
   "display_name": "Python 3",
   "language": "python",
   "name": "python3"
  },
  "language_info": {
   "name": "python",
   "version": "3.9.5"
  },
  "metadata": {
   "interpreter": {
    "hash": "9f38684a8957c3d65727244c4991ef85190ae848a179fe34d407d72de85d26a5"
   }
  },
  "orig_nbformat": 2
 },
 "nbformat": 4,
 "nbformat_minor": 2
}