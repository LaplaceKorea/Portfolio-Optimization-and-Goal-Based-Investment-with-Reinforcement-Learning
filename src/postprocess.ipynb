{
 "cells": [
  {
   "cell_type": "code",
   "execution_count": 1,
   "source": [
    "%reload_ext autoreload\n",
    "%autoreload 2\n",
    "import numpy as np\n",
    "import itertools\n",
    "import os\n",
    "import pandas as pd\n",
    "import sys\n",
    "path_to_package = '/'.join(os.getcwd().split('/')[:-1])\n",
    "sys.path.append(path_to_package)"
   ],
   "outputs": [],
   "metadata": {}
  },
  {
   "cell_type": "code",
   "execution_count": null,
   "source": [
    "df = pd.read_csv('../data/close.csv', index_col=0)\n",
    "df = df.iloc[-50:, :3]\n",
    "\n",
    "window = 4\n",
    "corr = df.rolling(window).cov()\n",
    "\n",
    "columns = ['{}/{}'.format(m, n) for (m, n) in itertools.product(df.columns, repeat=2)]\n",
    "\n",
    "corr_flattened = pd.DataFrame(index=columns).transpose()\n",
    "\n",
    "for i in range(df.shape[0]):\n",
    "\n",
    "    data = corr[df.shape[1]*i : df.shape[1]*(i+1)].to_numpy().flatten()\n",
    "    index = [corr.index[df.shape[1]*i][0]]\n",
    "\n",
    "    temp = pd.DataFrame(data=data, columns=index, index=columns).transpose()\n",
    "    corr_flattened = pd.concat([corr_flattened, temp])\n",
    "\n",
    "corr_flattened.tail()"
   ],
   "outputs": [],
   "metadata": {}
  },
  {
   "cell_type": "code",
   "execution_count": null,
   "source": [
    "def append_corr_matrix(df: pd.DataFrame,\n",
    "                       window: int,\n",
    "                       ) -> pd.DataFrame:\n",
    "    \"\"\"\n",
    "        Computes the sliding correlation matrix of a multidimensional time series, \\ \n",
    "        timewise flattens it and extracts just the upper triangular part (since it is symmetric), \\\n",
    "        then appends it to the initial time series.\n",
    "    \"\"\"\n",
    "\n",
    "    columns = ['{}/{}'.format(m, n) for (m, n) in itertools.combinations_with_replacement(df.columns, r=2)]\n",
    "    corr = df.rolling(window).cov()\n",
    "    corr_flattened = pd.DataFrame(index=columns).transpose()\n",
    "\n",
    "    for i in range(window-1, df.shape[0]):\n",
    "\n",
    "        ind = np.triu_indices(df.shape[1])\n",
    "        data = corr[df.shape[1]*i : df.shape[1]*(i+1)].to_numpy()[ind]\n",
    "        index = [corr.index[df.shape[1]*i][0]]\n",
    "\n",
    "        temp = pd.DataFrame(data=data, columns=index, index=columns).transpose()\n",
    "        corr_flattened = pd.concat([corr_flattened, temp])\n",
    "\n",
    "    return pd.concat([df.iloc[window-1 : ], corr_flattened], axis=1)"
   ],
   "outputs": [],
   "metadata": {}
  },
  {
   "cell_type": "code",
   "execution_count": null,
   "source": [
    "def append_corr_matrix2(df: pd.DataFrame,\n",
    "                       window: int,\n",
    "                       ) -> pd.DataFrame:\n",
    "    \"\"\"\n",
    "        Computes the sliding correlation matrix of a multidimensional time series, \\ \n",
    "        timewise flattens it and extracts just the upper triangular part (since it is symmetric), \\\n",
    "        then appends it to the initial time series.\n",
    "    \"\"\"\n",
    "\n",
    "    columns = ['{}/{}'.format(m, n) for (m, n) in itertools.combinations_with_replacement(df.columns, r=2)]\n",
    "    corr = df.rolling(window).cov()\n",
    "    corr_flattened = pd.DataFrame(index=columns).transpose()\n",
    "\n",
    "    for i in range(df.shape[0]):\n",
    "\n",
    "        ind = np.triu_indices(df.shape[1])\n",
    "        data = corr[df.shape[1]*i : df.shape[1]*(i+1)].to_numpy()[ind]\n",
    "        index = [corr.index[df.shape[1]*i][0]]\n",
    "\n",
    "        temp = pd.DataFrame(data=data, columns=index, index=columns).transpose()\n",
    "        corr_flattened = pd.concat([corr_flattened, temp])\n",
    "\n",
    "    return pd.concat([df, corr_flattened], axis=1).iloc[window-1 : ]"
   ],
   "outputs": [],
   "metadata": {}
  },
  {
   "cell_type": "code",
   "execution_count": null,
   "source": [
    "corr_flattened = append_corr_matrix(df, 4)\n",
    "corr_flattened2 = append_corr_matrix2(df, 4)\n",
    "print(corr_flattened.index)\n",
    "print(corr_flattened2.index)"
   ],
   "outputs": [],
   "metadata": {}
  },
  {
   "cell_type": "code",
   "execution_count": null,
   "source": [
    "df = pd.read_csv('../data/close.csv', index_col=0)\n",
    "df = df.iloc[-50:, :3]\n",
    "\n",
    "window = 4\n",
    "\n",
    "columns = ['Eigenvalue_{}'.format(m+1) for m in range(2)]\n",
    "corr = df.rolling(window).cov()\n",
    "corr_flattened = pd.DataFrame(index=columns).transpose()\n",
    "\n",
    "for i in range(window-1, df.shape[0]):\n",
    "    ind = np.triu_indices(df.shape[1])\n",
    "    data = corr[df.shape[1]*i : df.shape[1]*(i+1)].to_numpy()\n",
    "    data = np.linalg.eig(data)\n",
    "    data = data[0]\n",
    "    data[::-1].sort()\n",
    "    data = data[:2]\n",
    "\n",
    "    index = [corr.index[df.shape[1]*i][0]]\n",
    "    temp = pd.DataFrame(data=data, columns=index, index=columns).transpose()\n",
    "    corr_flattened = pd.concat([corr_flattened, temp])\n",
    "\n",
    "pd.concat([df.iloc[window-1 : ], corr_flattened], axis=1)\n"
   ],
   "outputs": [],
   "metadata": {}
  },
  {
   "cell_type": "code",
   "execution_count": null,
   "source": [
    "def append_corr_matrix_eigenvalues(df: pd.DataFrame,\n",
    "                                   window: int,\n",
    "                                   k: int = 10\n",
    "                                   ) -> pd.DataFrame:\n",
    "    \n",
    "    columns = ['Eigenvalue_{}'.format(m+1) for m in range(k)]\n",
    "    corr = df.rolling(window).cov()\n",
    "    corr_eigenvalues = pd.DataFrame(index=columns).transpose()\n",
    "\n",
    "    for i in range(window-1, df.shape[0]):\n",
    "        data = corr[df.shape[1]*i : df.shape[1]*(i+1)].to_numpy()\n",
    "        data = np.linalg.eig(data)\n",
    "        data = data[0]\n",
    "        data[::-1].sort()\n",
    "        data = data[:k]\n",
    "\n",
    "        index = [corr.index[df.shape[1]*i][0]]\n",
    "        temp = pd.DataFrame(data=data, columns=index, index=columns).transpose()\n",
    "        corr_eigenvalues = pd.concat([corr_eigenvalues, temp])\n",
    "\n",
    "    return pd.concat([df.iloc[window-1 : ], corr_eigenvalues], axis=1)"
   ],
   "outputs": [],
   "metadata": {}
  },
  {
   "cell_type": "code",
   "execution_count": null,
   "source": [
    "df = pd.read_csv('../data/close.csv', index_col=0)"
   ],
   "outputs": [],
   "metadata": {}
  },
  {
   "cell_type": "code",
   "execution_count": null,
   "source": [
    "df.columns.shape"
   ],
   "outputs": [],
   "metadata": {}
  },
  {
   "cell_type": "code",
   "execution_count": null,
   "source": [],
   "outputs": [],
   "metadata": {}
  },
  {
   "cell_type": "code",
   "execution_count": null,
   "source": [
    "with open(\"./tickers_S&P500.txt\", \"r\") as file:\n",
    "    lines = file.readlines()\n",
    "    a = []\n",
    "    for l in lines:\n",
    "\t    a.append(l.replace(\"\\n\", \"\"))"
   ],
   "outputs": [],
   "metadata": {}
  },
  {
   "cell_type": "code",
   "execution_count": null,
   "source": [
    "initial_number_of_shares = {key: 0 for key in a}"
   ],
   "outputs": [],
   "metadata": {}
  },
  {
   "cell_type": "code",
   "execution_count": null,
   "source": [
    "import json"
   ],
   "outputs": [],
   "metadata": {}
  },
  {
   "cell_type": "code",
   "execution_count": null,
   "source": [
    "with open(\"./initial_portfolio.json\", \"w\") as file:\n",
    "    file = json.dump(initial_number_of_shares, file)"
   ],
   "outputs": [],
   "metadata": {}
  },
  {
   "cell_type": "code",
   "execution_count": 13,
   "source": [
    "np.array([[1,2],[3,4]])"
   ],
   "outputs": [
    {
     "output_type": "execute_result",
     "data": {
      "text/plain": [
       "array([[1, 2],\n",
       "       [3, 4]])"
      ]
     },
     "metadata": {},
     "execution_count": 13
    }
   ],
   "metadata": {}
  },
  {
   "cell_type": "code",
   "execution_count": 18,
   "source": [
    "reward_history = np.load(\"../saved_outputs/2021.07.23.14.10.51/logs/reward_history.npy\")\n",
    "portfolio_value_history = np.load(\"../saved_outputs/2021.07.23.14.10.51/logs/portfolio_value_history.npy\")"
   ],
   "outputs": [],
   "metadata": {}
  },
  {
   "cell_type": "code",
   "execution_count": 21,
   "source": [
    "portfolio_value_history.shape"
   ],
   "outputs": [
    {
     "output_type": "execute_result",
     "data": {
      "text/plain": [
       "(2, 1133)"
      ]
     },
     "metadata": {},
     "execution_count": 21
    }
   ],
   "metadata": {}
  },
  {
   "cell_type": "code",
   "execution_count": 4,
   "source": [
    "a = np.load('../saved_outputs/2021.07.24.23.35.30/logs/train_reward_history.npy')"
   ],
   "outputs": [],
   "metadata": {}
  },
  {
   "cell_type": "code",
   "execution_count": 7,
   "source": [
    "a"
   ],
   "outputs": [
    {
     "output_type": "execute_result",
     "data": {
      "text/plain": [
       "array([-1781.36702073, -1087.07777719,   794.85202478,  2148.68619929,\n",
       "        1368.92762171,  1429.18426939,  1634.23469595,  1383.7153149 ,\n",
       "         796.82555529, -1811.02160287, -1401.41648666,  1629.895154  ,\n",
       "        1544.86718447,   754.62028372,  -405.71290236])"
      ]
     },
     "metadata": {},
     "execution_count": 7
    }
   ],
   "metadata": {}
  },
  {
   "cell_type": "code",
   "execution_count": 8,
   "source": [
    "i = 100000"
   ],
   "outputs": [],
   "metadata": {}
  },
  {
   "cell_type": "code",
   "execution_count": 10,
   "source": [
    "(i + a) / i"
   ],
   "outputs": [
    {
     "output_type": "execute_result",
     "data": {
      "text/plain": [
       "array([0.98218633, 0.98912922, 1.00794852, 1.02148686, 1.01368928,\n",
       "       1.01429184, 1.01634235, 1.01383715, 1.00796826, 0.98188978,\n",
       "       0.98598584, 1.01629895, 1.01544867, 1.0075462 , 0.99594287])"
      ]
     },
     "metadata": {},
     "execution_count": 10
    }
   ],
   "metadata": {}
  },
  {
   "cell_type": "code",
   "execution_count": 2,
   "source": [
    "a = np.load('../saved_outputs/2021.07.23.22.47.36/logs/test_portfolio_content_history.npy')"
   ],
   "outputs": [],
   "metadata": {}
  },
  {
   "cell_type": "code",
   "execution_count": 3,
   "source": [
    "a.shape"
   ],
   "outputs": [
    {
     "output_type": "execute_result",
     "data": {
      "text/plain": [
       "(10, 378, 24)"
      ]
     },
     "metadata": {},
     "execution_count": 3
    }
   ],
   "metadata": {}
  },
  {
   "cell_type": "code",
   "execution_count": 16,
   "source": [
    "with open('../portfolios_and_tickers/tickers_S&P500_subset.txt', 'r') as f:\n",
    "    lines = f.readlines()\n",
    "    tickers = []\n",
    "    for l in lines:\n",
    "\t    tickers.append(l.replace(\"\\n\", \"\"))"
   ],
   "outputs": [],
   "metadata": {}
  },
  {
   "cell_type": "code",
   "execution_count": 17,
   "source": [
    "tickers"
   ],
   "outputs": [
    {
     "output_type": "execute_result",
     "data": {
      "text/plain": [
       "['MMM',\n",
       " 'AXP',\n",
       " 'BA',\n",
       " 'BAC',\n",
       " 'C',\n",
       " 'CAT',\n",
       " 'CVX',\n",
       " 'DIS',\n",
       " 'GE',\n",
       " 'GM',\n",
       " 'HD',\n",
       " 'HPQ',\n",
       " 'IBM',\n",
       " 'JNJ',\n",
       " 'JPM',\n",
       " 'KO',\n",
       " 'MCD',\n",
       " 'MRK',\n",
       " 'PFE',\n",
       " 'PG',\n",
       " 'T',\n",
       " 'VZ',\n",
       " 'WMT',\n",
       " 'XOM']"
      ]
     },
     "metadata": {},
     "execution_count": 17
    }
   ],
   "metadata": {}
  },
  {
   "cell_type": "code",
   "execution_count": 18,
   "source": [
    "pd.DataFrame(data=a[0], columns=tickers)"
   ],
   "outputs": [
    {
     "output_type": "execute_result",
     "data": {
      "text/plain": [
       "     MMM  AXP  BA  BAC  C  CAT  CVX  DIS   GE  GM  ...  JPM  KO  MCD  MRK  \\\n",
       "0     46  141   0    0  0    0    0    0  305   0  ...    0   0    0    0   \n",
       "1     46  141   0    0  0    0    0    0  305   0  ...    0   0    0    0   \n",
       "2     46  141   0    0  0    0    0    0  305   0  ...    0   0    0    0   \n",
       "3     46  141   0    0  0    0    0    0  305   0  ...    0   0    0    0   \n",
       "4     46  141   0    0  0    0    0    0  305   0  ...    0   0    0    0   \n",
       "..   ...  ...  ..  ... ..  ...  ...  ...  ...  ..  ...  ...  ..  ...  ...   \n",
       "373   46  141   0    0  0    0    0    0  305   0  ...    0   0    0    0   \n",
       "374   46  141   0    0  0    0    0    0  305   0  ...    0   0    0    0   \n",
       "375   46  141   0    0  0    0    0    0  305   0  ...    0   0    0    0   \n",
       "376   46  141   0    0  0    0    0    0  305   0  ...    0   0    0    0   \n",
       "377   46  141   0    0  0    0    0    0  305   0  ...    0   0    0    0   \n",
       "\n",
       "     PFE  PG  T  VZ  WMT  XOM  \n",
       "0     96  98  0   0   96   28  \n",
       "1     96  98  0   0   96   28  \n",
       "2     96  98  0   0   96   28  \n",
       "3     96  98  0   0   96   28  \n",
       "4     96  98  0   0   96   28  \n",
       "..   ...  .. ..  ..  ...  ...  \n",
       "373   96  98  0   0   96   28  \n",
       "374   96  98  0   0   96   28  \n",
       "375   96  98  0   0   96   28  \n",
       "376   96  98  0   0   96   28  \n",
       "377   96  98  0   0   96   28  \n",
       "\n",
       "[378 rows x 24 columns]"
      ],
      "text/html": [
       "<div>\n",
       "<style scoped>\n",
       "    .dataframe tbody tr th:only-of-type {\n",
       "        vertical-align: middle;\n",
       "    }\n",
       "\n",
       "    .dataframe tbody tr th {\n",
       "        vertical-align: top;\n",
       "    }\n",
       "\n",
       "    .dataframe thead th {\n",
       "        text-align: right;\n",
       "    }\n",
       "</style>\n",
       "<table border=\"1\" class=\"dataframe\">\n",
       "  <thead>\n",
       "    <tr style=\"text-align: right;\">\n",
       "      <th></th>\n",
       "      <th>MMM</th>\n",
       "      <th>AXP</th>\n",
       "      <th>BA</th>\n",
       "      <th>BAC</th>\n",
       "      <th>C</th>\n",
       "      <th>CAT</th>\n",
       "      <th>CVX</th>\n",
       "      <th>DIS</th>\n",
       "      <th>GE</th>\n",
       "      <th>GM</th>\n",
       "      <th>...</th>\n",
       "      <th>JPM</th>\n",
       "      <th>KO</th>\n",
       "      <th>MCD</th>\n",
       "      <th>MRK</th>\n",
       "      <th>PFE</th>\n",
       "      <th>PG</th>\n",
       "      <th>T</th>\n",
       "      <th>VZ</th>\n",
       "      <th>WMT</th>\n",
       "      <th>XOM</th>\n",
       "    </tr>\n",
       "  </thead>\n",
       "  <tbody>\n",
       "    <tr>\n",
       "      <th>0</th>\n",
       "      <td>46</td>\n",
       "      <td>141</td>\n",
       "      <td>0</td>\n",
       "      <td>0</td>\n",
       "      <td>0</td>\n",
       "      <td>0</td>\n",
       "      <td>0</td>\n",
       "      <td>0</td>\n",
       "      <td>305</td>\n",
       "      <td>0</td>\n",
       "      <td>...</td>\n",
       "      <td>0</td>\n",
       "      <td>0</td>\n",
       "      <td>0</td>\n",
       "      <td>0</td>\n",
       "      <td>96</td>\n",
       "      <td>98</td>\n",
       "      <td>0</td>\n",
       "      <td>0</td>\n",
       "      <td>96</td>\n",
       "      <td>28</td>\n",
       "    </tr>\n",
       "    <tr>\n",
       "      <th>1</th>\n",
       "      <td>46</td>\n",
       "      <td>141</td>\n",
       "      <td>0</td>\n",
       "      <td>0</td>\n",
       "      <td>0</td>\n",
       "      <td>0</td>\n",
       "      <td>0</td>\n",
       "      <td>0</td>\n",
       "      <td>305</td>\n",
       "      <td>0</td>\n",
       "      <td>...</td>\n",
       "      <td>0</td>\n",
       "      <td>0</td>\n",
       "      <td>0</td>\n",
       "      <td>0</td>\n",
       "      <td>96</td>\n",
       "      <td>98</td>\n",
       "      <td>0</td>\n",
       "      <td>0</td>\n",
       "      <td>96</td>\n",
       "      <td>28</td>\n",
       "    </tr>\n",
       "    <tr>\n",
       "      <th>2</th>\n",
       "      <td>46</td>\n",
       "      <td>141</td>\n",
       "      <td>0</td>\n",
       "      <td>0</td>\n",
       "      <td>0</td>\n",
       "      <td>0</td>\n",
       "      <td>0</td>\n",
       "      <td>0</td>\n",
       "      <td>305</td>\n",
       "      <td>0</td>\n",
       "      <td>...</td>\n",
       "      <td>0</td>\n",
       "      <td>0</td>\n",
       "      <td>0</td>\n",
       "      <td>0</td>\n",
       "      <td>96</td>\n",
       "      <td>98</td>\n",
       "      <td>0</td>\n",
       "      <td>0</td>\n",
       "      <td>96</td>\n",
       "      <td>28</td>\n",
       "    </tr>\n",
       "    <tr>\n",
       "      <th>3</th>\n",
       "      <td>46</td>\n",
       "      <td>141</td>\n",
       "      <td>0</td>\n",
       "      <td>0</td>\n",
       "      <td>0</td>\n",
       "      <td>0</td>\n",
       "      <td>0</td>\n",
       "      <td>0</td>\n",
       "      <td>305</td>\n",
       "      <td>0</td>\n",
       "      <td>...</td>\n",
       "      <td>0</td>\n",
       "      <td>0</td>\n",
       "      <td>0</td>\n",
       "      <td>0</td>\n",
       "      <td>96</td>\n",
       "      <td>98</td>\n",
       "      <td>0</td>\n",
       "      <td>0</td>\n",
       "      <td>96</td>\n",
       "      <td>28</td>\n",
       "    </tr>\n",
       "    <tr>\n",
       "      <th>4</th>\n",
       "      <td>46</td>\n",
       "      <td>141</td>\n",
       "      <td>0</td>\n",
       "      <td>0</td>\n",
       "      <td>0</td>\n",
       "      <td>0</td>\n",
       "      <td>0</td>\n",
       "      <td>0</td>\n",
       "      <td>305</td>\n",
       "      <td>0</td>\n",
       "      <td>...</td>\n",
       "      <td>0</td>\n",
       "      <td>0</td>\n",
       "      <td>0</td>\n",
       "      <td>0</td>\n",
       "      <td>96</td>\n",
       "      <td>98</td>\n",
       "      <td>0</td>\n",
       "      <td>0</td>\n",
       "      <td>96</td>\n",
       "      <td>28</td>\n",
       "    </tr>\n",
       "    <tr>\n",
       "      <th>...</th>\n",
       "      <td>...</td>\n",
       "      <td>...</td>\n",
       "      <td>...</td>\n",
       "      <td>...</td>\n",
       "      <td>...</td>\n",
       "      <td>...</td>\n",
       "      <td>...</td>\n",
       "      <td>...</td>\n",
       "      <td>...</td>\n",
       "      <td>...</td>\n",
       "      <td>...</td>\n",
       "      <td>...</td>\n",
       "      <td>...</td>\n",
       "      <td>...</td>\n",
       "      <td>...</td>\n",
       "      <td>...</td>\n",
       "      <td>...</td>\n",
       "      <td>...</td>\n",
       "      <td>...</td>\n",
       "      <td>...</td>\n",
       "      <td>...</td>\n",
       "    </tr>\n",
       "    <tr>\n",
       "      <th>373</th>\n",
       "      <td>46</td>\n",
       "      <td>141</td>\n",
       "      <td>0</td>\n",
       "      <td>0</td>\n",
       "      <td>0</td>\n",
       "      <td>0</td>\n",
       "      <td>0</td>\n",
       "      <td>0</td>\n",
       "      <td>305</td>\n",
       "      <td>0</td>\n",
       "      <td>...</td>\n",
       "      <td>0</td>\n",
       "      <td>0</td>\n",
       "      <td>0</td>\n",
       "      <td>0</td>\n",
       "      <td>96</td>\n",
       "      <td>98</td>\n",
       "      <td>0</td>\n",
       "      <td>0</td>\n",
       "      <td>96</td>\n",
       "      <td>28</td>\n",
       "    </tr>\n",
       "    <tr>\n",
       "      <th>374</th>\n",
       "      <td>46</td>\n",
       "      <td>141</td>\n",
       "      <td>0</td>\n",
       "      <td>0</td>\n",
       "      <td>0</td>\n",
       "      <td>0</td>\n",
       "      <td>0</td>\n",
       "      <td>0</td>\n",
       "      <td>305</td>\n",
       "      <td>0</td>\n",
       "      <td>...</td>\n",
       "      <td>0</td>\n",
       "      <td>0</td>\n",
       "      <td>0</td>\n",
       "      <td>0</td>\n",
       "      <td>96</td>\n",
       "      <td>98</td>\n",
       "      <td>0</td>\n",
       "      <td>0</td>\n",
       "      <td>96</td>\n",
       "      <td>28</td>\n",
       "    </tr>\n",
       "    <tr>\n",
       "      <th>375</th>\n",
       "      <td>46</td>\n",
       "      <td>141</td>\n",
       "      <td>0</td>\n",
       "      <td>0</td>\n",
       "      <td>0</td>\n",
       "      <td>0</td>\n",
       "      <td>0</td>\n",
       "      <td>0</td>\n",
       "      <td>305</td>\n",
       "      <td>0</td>\n",
       "      <td>...</td>\n",
       "      <td>0</td>\n",
       "      <td>0</td>\n",
       "      <td>0</td>\n",
       "      <td>0</td>\n",
       "      <td>96</td>\n",
       "      <td>98</td>\n",
       "      <td>0</td>\n",
       "      <td>0</td>\n",
       "      <td>96</td>\n",
       "      <td>28</td>\n",
       "    </tr>\n",
       "    <tr>\n",
       "      <th>376</th>\n",
       "      <td>46</td>\n",
       "      <td>141</td>\n",
       "      <td>0</td>\n",
       "      <td>0</td>\n",
       "      <td>0</td>\n",
       "      <td>0</td>\n",
       "      <td>0</td>\n",
       "      <td>0</td>\n",
       "      <td>305</td>\n",
       "      <td>0</td>\n",
       "      <td>...</td>\n",
       "      <td>0</td>\n",
       "      <td>0</td>\n",
       "      <td>0</td>\n",
       "      <td>0</td>\n",
       "      <td>96</td>\n",
       "      <td>98</td>\n",
       "      <td>0</td>\n",
       "      <td>0</td>\n",
       "      <td>96</td>\n",
       "      <td>28</td>\n",
       "    </tr>\n",
       "    <tr>\n",
       "      <th>377</th>\n",
       "      <td>46</td>\n",
       "      <td>141</td>\n",
       "      <td>0</td>\n",
       "      <td>0</td>\n",
       "      <td>0</td>\n",
       "      <td>0</td>\n",
       "      <td>0</td>\n",
       "      <td>0</td>\n",
       "      <td>305</td>\n",
       "      <td>0</td>\n",
       "      <td>...</td>\n",
       "      <td>0</td>\n",
       "      <td>0</td>\n",
       "      <td>0</td>\n",
       "      <td>0</td>\n",
       "      <td>96</td>\n",
       "      <td>98</td>\n",
       "      <td>0</td>\n",
       "      <td>0</td>\n",
       "      <td>96</td>\n",
       "      <td>28</td>\n",
       "    </tr>\n",
       "  </tbody>\n",
       "</table>\n",
       "<p>378 rows × 24 columns</p>\n",
       "</div>"
      ]
     },
     "metadata": {},
     "execution_count": 18
    }
   ],
   "metadata": {}
  },
  {
   "cell_type": "code",
   "execution_count": null,
   "source": [],
   "outputs": [],
   "metadata": {}
  }
 ],
 "metadata": {
  "interpreter": {
   "hash": "9d959dad163c89cc5fb75df1327c2a9d6633240c42655880c50c54489954a6d0"
  },
  "kernelspec": {
   "name": "python3",
   "display_name": "Python 3.9.5 64-bit ('.env': venv)"
  },
  "language_info": {
   "codemirror_mode": {
    "name": "ipython",
    "version": 3
   },
   "file_extension": ".py",
   "mimetype": "text/x-python",
   "name": "python",
   "nbconvert_exporter": "python",
   "pygments_lexer": "ipython3",
   "version": "3.9.5"
  },
  "metadata": {
   "interpreter": {
    "hash": "9f38684a8957c3d65727244c4991ef85190ae848a179fe34d407d72de85d26a5"
   }
  },
  "orig_nbformat": 2
 },
 "nbformat": 4,
 "nbformat_minor": 2
}