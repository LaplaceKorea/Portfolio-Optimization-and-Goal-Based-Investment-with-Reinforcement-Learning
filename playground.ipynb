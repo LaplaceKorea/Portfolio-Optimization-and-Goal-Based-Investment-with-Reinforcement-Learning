{
 "metadata": {
  "language_info": {
   "codemirror_mode": {
    "name": "ipython",
    "version": 3
   },
   "file_extension": ".py",
   "mimetype": "text/x-python",
   "name": "python",
   "nbconvert_exporter": "python",
   "pygments_lexer": "ipython3",
   "version": "3.8.8"
  },
  "orig_nbformat": 2,
  "kernelspec": {
   "name": "python388jvsc74a57bd0e562bdf14a94ee485e6cff985feb07e9ff4e5c9078a2ce1935d13fe871d611ab",
   "display_name": "Python 3.8.8  ('.env': venv)"
  },
  "metadata": {
   "interpreter": {
    "hash": "e562bdf14a94ee485e6cff985feb07e9ff4e5c9078a2ce1935d13fe871d611ab"
   }
  }
 },
 "nbformat": 4,
 "nbformat_minor": 2,
 "cells": [
  {
   "cell_type": "code",
   "execution_count": 1,
   "metadata": {},
   "outputs": [],
   "source": [
    "import pandas as pd"
   ]
  },
  {
   "cell_type": "code",
   "execution_count": 2,
   "metadata": {},
   "outputs": [],
   "source": [
    "df = pd.read_csv('data/stocks.csv')"
   ]
  },
  {
   "cell_type": "code",
   "execution_count": 4,
   "metadata": {},
   "outputs": [],
   "source": [
    "df = df[['Name', 'Close']]"
   ]
  },
  {
   "cell_type": "code",
   "execution_count": 7,
   "metadata": {},
   "outputs": [
    {
     "output_type": "execute_result",
     "data": {
      "text/plain": [
       "   Name      Close\n",
       "0  CSCO  23.940001\n",
       "1  CSCO  24.690001\n",
       "2  CSCO  24.580000\n",
       "3  CSCO  24.420000\n",
       "4  CSCO  24.530001"
      ],
      "text/html": "<div>\n<style scoped>\n    .dataframe tbody tr th:only-of-type {\n        vertical-align: middle;\n    }\n\n    .dataframe tbody tr th {\n        vertical-align: top;\n    }\n\n    .dataframe thead th {\n        text-align: right;\n    }\n</style>\n<table border=\"1\" class=\"dataframe\">\n  <thead>\n    <tr style=\"text-align: right;\">\n      <th></th>\n      <th>Name</th>\n      <th>Close</th>\n    </tr>\n  </thead>\n  <tbody>\n    <tr>\n      <th>0</th>\n      <td>CSCO</td>\n      <td>23.940001</td>\n    </tr>\n    <tr>\n      <th>1</th>\n      <td>CSCO</td>\n      <td>24.690001</td>\n    </tr>\n    <tr>\n      <th>2</th>\n      <td>CSCO</td>\n      <td>24.580000</td>\n    </tr>\n    <tr>\n      <th>3</th>\n      <td>CSCO</td>\n      <td>24.420000</td>\n    </tr>\n    <tr>\n      <th>4</th>\n      <td>CSCO</td>\n      <td>24.530001</td>\n    </tr>\n  </tbody>\n</table>\n</div>"
     },
     "metadata": {},
     "execution_count": 7
    }
   ],
   "source": [
    "df.head(5)"
   ]
  },
  {
   "cell_type": "code",
   "execution_count": null,
   "metadata": {},
   "outputs": [],
   "source": []
  }
 ]
}