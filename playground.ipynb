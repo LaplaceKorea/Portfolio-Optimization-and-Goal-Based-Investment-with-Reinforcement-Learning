{
 "metadata": {
  "orig_nbformat": 2,
  "kernelspec": {
   "name": "python388jvsc74a57bd0aee8b7b246df8f9039afb4144a1f6fd8d2ca17a180786b69acc140d282b71a49",
   "display_name": "Python 3.8.8 64-bit"
  },
  "metadata": {
   "interpreter": {
    "hash": "aee8b7b246df8f9039afb4144a1f6fd8d2ca17a180786b69acc140d282b71a49"
   }
  }
 },
 "nbformat": 4,
 "nbformat_minor": 2,
 "cells": [
  {
   "source": [
    "Written by Matthieu Sarkis, https://github.com/MatthieuSarkis\n",
    "\n",
    "This code is licensed under the Apache License, Version 2.0. You may\n",
    "obtain a copy of this license in the LICENSE.txt file in the root directory\n",
    "of this source tree or at http://www.apache.org/licenses/LICENSE-2.0.\n",
    "\n",
    "Any modifications or derivative works of this code must retain this\n",
    "copyright notice, and modified files need to carry a notice indicating\n",
    "that they have been altered from the originals"
   ],
   "cell_type": "markdown",
   "metadata": {}
  },
  {
   "cell_type": "code",
   "execution_count": 54,
   "metadata": {},
   "outputs": [],
   "source": [
    "import os\n",
    "import numpy as np\n",
    "import pandas as pd\n",
    "import matplotlib.pyplot as plt\n",
    "import seaborn as sns\n",
    "import tensorflow as tf\n",
    "from sklearn.model_selection import train_test_split\n",
    "from sklearn.preprocessing import StandardScaler\n",
    "%matplotlib inline\n",
    "sns.set_style()\n",
    "import get_data"
   ]
  },
  {
   "cell_type": "code",
   "execution_count": 55,
   "metadata": {},
   "outputs": [],
   "source": [
    "DATA_PATH = '~/data_cfm_auction'\n",
    "X_train_path = os.path.join(DATA_PATH, 'input_training.csv')\n",
    "y_train_path = os.path.join(DATA_PATH, 'output_training_IxKGwDV.csv')\n",
    "X_test_path = os.path.join(DATA_PATH, 'input_test.csv')\n",
    "submission_example_path = os.path.join(DATA_PATH, 'submission_csv_file_random_example.csv')"
   ]
  },
  {
   "cell_type": "code",
   "execution_count": 56,
   "metadata": {},
   "outputs": [],
   "source": [
    "X_train = pd.read_csv(X_train_path)\n",
    "y_train = pd.read_csv(y_train_path)\n",
    "X_test = pd.read_csv(X_test_path)"
   ]
  },
  {
   "cell_type": "code",
   "execution_count": 57,
   "metadata": {},
   "outputs": [],
   "source": [
    "temp = pd.concat([X_train.fillna(method='ffill', axis=1).fillna(method='bfill', axis=1), y_train['target']], axis=1).dropna()\n",
    "y_train = temp['target']\n",
    "X_train = temp.drop(['target'], axis = 1)"
   ]
  },
  {
   "cell_type": "code",
   "execution_count": 58,
   "metadata": {},
   "outputs": [
    {
     "output_type": "execute_result",
     "data": {
      "text/plain": [
       "((684482, 127), (684482,))"
      ]
     },
     "metadata": {},
     "execution_count": 58
    }
   ],
   "source": [
    "(X_train.shape, y_train.shape)"
   ]
  },
  {
   "cell_type": "code",
   "execution_count": 69,
   "metadata": {},
   "outputs": [],
   "source": [
    "X_train_2d_timeSequence = X_train[['abs_ret{}'.format(i) for i in range(0, 61)] + ['rel_vol{}'.format(i) for i in range(0, 61)]].copy().values.reshape(-1, 61, 2)"
   ]
  },
  {
   "cell_type": "code",
   "execution_count": 70,
   "metadata": {},
   "outputs": [
    {
     "output_type": "execute_result",
     "data": {
      "text/plain": [
       "array([[[0.00000000e+00, 0.00000000e+00],\n",
       "        [0.00000000e+00, 0.00000000e+00],\n",
       "        [2.93169159e-02, 0.00000000e+00],\n",
       "        ...,\n",
       "        [9.46154175e-03, 1.26973539e-02],\n",
       "        [1.95071487e-02, 5.10070533e-03],\n",
       "        [1.06539458e-02, 6.97085563e-03]],\n",
       "\n",
       "       [[0.00000000e+00, 0.00000000e+00],\n",
       "        [0.00000000e+00, 2.20555801e-02],\n",
       "        [0.00000000e+00, 3.67107195e-02],\n",
       "        ...,\n",
       "        [5.27637403e-03, 1.16484133e-02],\n",
       "        [1.18287058e-02, 1.55580697e-02],\n",
       "        [1.78764606e-03, 5.25071213e-03]],\n",
       "\n",
       "       [[0.00000000e+00, 0.00000000e+00],\n",
       "        [0.00000000e+00, 0.00000000e+00],\n",
       "        [2.22667557e-02, 0.00000000e+00],\n",
       "        ...,\n",
       "        [1.27279014e-02, 7.92064677e-03],\n",
       "        [6.43157335e-04, 2.96920398e-02],\n",
       "        [1.64399882e-02, 1.19702532e-02]],\n",
       "\n",
       "       ...,\n",
       "\n",
       "       [[1.08626198e+00, 0.00000000e+00],\n",
       "        [5.68900126e-01, 4.71846493e-01],\n",
       "        [1.89753321e-01, 4.75285171e-01],\n",
       "        ...,\n",
       "        [1.45520612e-02, 1.61738930e-02],\n",
       "        [2.01045891e-02, 3.78896710e-02],\n",
       "        [2.83019264e-02, 2.88345568e-02]],\n",
       "\n",
       "       [[1.50564617e+00, 0.00000000e+00],\n",
       "        [2.15736041e+00, 1.55642023e+00],\n",
       "        [2.30566535e+00, 5.15132003e-01],\n",
       "        ...,\n",
       "        [3.29309921e-03, 1.00094899e-02],\n",
       "        [2.18384027e-02, 2.19535032e-02],\n",
       "        [1.41214874e-02, 3.15295104e-02]],\n",
       "\n",
       "       [[2.62812089e-01, 3.92413342e-01],\n",
       "        [0.00000000e+00, 3.93959291e-01],\n",
       "        [2.64200793e-01, 1.31752306e-01],\n",
       "        ...,\n",
       "        [4.23162449e-03, 6.26822545e-03],\n",
       "        [2.09217723e-03, 2.32431384e-02],\n",
       "        [1.55924453e-02, 8.51817991e-03]]])"
      ]
     },
     "metadata": {},
     "execution_count": 70
    }
   ],
   "source": [
    "X_train_2d_timeSequence"
   ]
  }
 ]
}